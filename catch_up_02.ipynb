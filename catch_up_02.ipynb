{
  "cells": [
    {
      "cell_type": "markdown",
      "metadata": {
        "id": "view-in-github",
        "colab_type": "text"
      },
      "source": [
        "<a href=\"https://colab.research.google.com/github/Griffures/NLP-CatchUp/blob/master/catch_up_02.ipynb\" target=\"_parent\"><img src=\"https://colab.research.google.com/assets/colab-badge.svg\" alt=\"Open In Colab\"/></a>"
      ]
    },
    {
      "cell_type": "markdown",
      "metadata": {
        "id": "tMce8muBqXQP"
      },
      "source": [
        "# Introduction to Natural Language Processing Catch-up 2\n"
      ]
    },
    {
      "cell_type": "markdown",
      "source": [
        "___\n",
        "# Introduction\n",
        "\n",
        "*(copied from subject)*\n",
        "\n",
        "The second evaluation is made of a small project and theoritical questions on the course.\n",
        "\n",
        "For coding standards, please respect the following guidelines\n",
        "\n",
        "* Use docstring format to describe your functions and their arguments.\n",
        "* Use typing.\n",
        "* Have clear and verbatim variable names (not x, x1, x2, xx, another_x, ...).\n",
        "* Make your results reproducible (force random seeds values when necessary and possible).\n",
        "\n",
        "Don't hesitate commenting in details part of the code you consider complex or hard to read.\n"
      ],
      "metadata": {
        "id": "lPtaG-nHkmno"
      }
    },
    {
      "cell_type": "markdown",
      "source": [
        "## Imports\n",
        "\n",
        "Since we are using Colab for the GPU, no *conda.yml* nor *requirement.txt* will be given. To execute the code, please click on the \"Open in Colab\" button at the top of the file. "
      ],
      "metadata": {
        "id": "fq2Ewspqk_XQ"
      }
    },
    {
      "cell_type": "code",
      "source": [
        "import tensorflow as tf\n",
        "import numpy as np\n",
        "import matplotlib.pyplot as plt"
      ],
      "metadata": {
        "id": "WBUjFew8kuqL"
      },
      "execution_count": 26,
      "outputs": []
    },
    {
      "cell_type": "code",
      "source": [
        "# Pip install here. Sorry for log spam, didnt find a way to hide it in Colab.\n",
        "!pip install datasets transformers"
      ],
      "metadata": {
        "colab": {
          "base_uri": "https://localhost:8080/"
        },
        "id": "2e0Ej4NFt9nr",
        "outputId": "23fe9a6b-e440-4cab-87e0-e487558251ce"
      },
      "execution_count": 27,
      "outputs": [
        {
          "output_type": "stream",
          "name": "stdout",
          "text": [
            "Looking in indexes: https://pypi.org/simple, https://us-python.pkg.dev/colab-wheels/public/simple/\n",
            "Requirement already satisfied: datasets in /usr/local/lib/python3.7/dist-packages (2.3.2)\n",
            "Requirement already satisfied: transformers in /usr/local/lib/python3.7/dist-packages (4.20.1)\n",
            "Requirement already satisfied: pandas in /usr/local/lib/python3.7/dist-packages (from datasets) (1.3.5)\n",
            "Requirement already satisfied: fsspec[http]>=2021.05.0 in /usr/local/lib/python3.7/dist-packages (from datasets) (2022.5.0)\n",
            "Requirement already satisfied: numpy>=1.17 in /usr/local/lib/python3.7/dist-packages (from datasets) (1.21.6)\n",
            "Requirement already satisfied: dill<0.3.6 in /usr/local/lib/python3.7/dist-packages (from datasets) (0.3.5.1)\n",
            "Requirement already satisfied: tqdm>=4.62.1 in /usr/local/lib/python3.7/dist-packages (from datasets) (4.64.0)\n",
            "Requirement already satisfied: multiprocess in /usr/local/lib/python3.7/dist-packages (from datasets) (0.70.13)\n",
            "Requirement already satisfied: aiohttp in /usr/local/lib/python3.7/dist-packages (from datasets) (3.8.1)\n",
            "Requirement already satisfied: packaging in /usr/local/lib/python3.7/dist-packages (from datasets) (21.3)\n",
            "Requirement already satisfied: responses<0.19 in /usr/local/lib/python3.7/dist-packages (from datasets) (0.18.0)\n",
            "Requirement already satisfied: importlib-metadata in /usr/local/lib/python3.7/dist-packages (from datasets) (4.12.0)\n",
            "Requirement already satisfied: huggingface-hub<1.0.0,>=0.1.0 in /usr/local/lib/python3.7/dist-packages (from datasets) (0.8.1)\n",
            "Requirement already satisfied: xxhash in /usr/local/lib/python3.7/dist-packages (from datasets) (3.0.0)\n",
            "Requirement already satisfied: pyarrow>=6.0.0 in /usr/local/lib/python3.7/dist-packages (from datasets) (6.0.1)\n",
            "Requirement already satisfied: requests>=2.19.0 in /usr/local/lib/python3.7/dist-packages (from datasets) (2.23.0)\n",
            "Requirement already satisfied: filelock in /usr/local/lib/python3.7/dist-packages (from huggingface-hub<1.0.0,>=0.1.0->datasets) (3.7.1)\n",
            "Requirement already satisfied: typing-extensions>=3.7.4.3 in /usr/local/lib/python3.7/dist-packages (from huggingface-hub<1.0.0,>=0.1.0->datasets) (4.1.1)\n",
            "Requirement already satisfied: pyyaml>=5.1 in /usr/local/lib/python3.7/dist-packages (from huggingface-hub<1.0.0,>=0.1.0->datasets) (6.0)\n",
            "Requirement already satisfied: pyparsing!=3.0.5,>=2.0.2 in /usr/local/lib/python3.7/dist-packages (from packaging->datasets) (3.0.9)\n",
            "Requirement already satisfied: chardet<4,>=3.0.2 in /usr/local/lib/python3.7/dist-packages (from requests>=2.19.0->datasets) (3.0.4)\n",
            "Requirement already satisfied: certifi>=2017.4.17 in /usr/local/lib/python3.7/dist-packages (from requests>=2.19.0->datasets) (2022.6.15)\n",
            "Requirement already satisfied: urllib3!=1.25.0,!=1.25.1,<1.26,>=1.21.1 in /usr/local/lib/python3.7/dist-packages (from requests>=2.19.0->datasets) (1.25.11)\n",
            "Requirement already satisfied: idna<3,>=2.5 in /usr/local/lib/python3.7/dist-packages (from requests>=2.19.0->datasets) (2.10)\n",
            "Requirement already satisfied: tokenizers!=0.11.3,<0.13,>=0.11.1 in /usr/local/lib/python3.7/dist-packages (from transformers) (0.12.1)\n",
            "Requirement already satisfied: regex!=2019.12.17 in /usr/local/lib/python3.7/dist-packages (from transformers) (2022.6.2)\n",
            "Requirement already satisfied: multidict<7.0,>=4.5 in /usr/local/lib/python3.7/dist-packages (from aiohttp->datasets) (6.0.2)\n",
            "Requirement already satisfied: yarl<2.0,>=1.0 in /usr/local/lib/python3.7/dist-packages (from aiohttp->datasets) (1.7.2)\n",
            "Requirement already satisfied: charset-normalizer<3.0,>=2.0 in /usr/local/lib/python3.7/dist-packages (from aiohttp->datasets) (2.1.0)\n",
            "Requirement already satisfied: aiosignal>=1.1.2 in /usr/local/lib/python3.7/dist-packages (from aiohttp->datasets) (1.2.0)\n",
            "Requirement already satisfied: asynctest==0.13.0 in /usr/local/lib/python3.7/dist-packages (from aiohttp->datasets) (0.13.0)\n",
            "Requirement already satisfied: async-timeout<5.0,>=4.0.0a3 in /usr/local/lib/python3.7/dist-packages (from aiohttp->datasets) (4.0.2)\n",
            "Requirement already satisfied: attrs>=17.3.0 in /usr/local/lib/python3.7/dist-packages (from aiohttp->datasets) (21.4.0)\n",
            "Requirement already satisfied: frozenlist>=1.1.1 in /usr/local/lib/python3.7/dist-packages (from aiohttp->datasets) (1.3.0)\n",
            "Requirement already satisfied: zipp>=0.5 in /usr/local/lib/python3.7/dist-packages (from importlib-metadata->datasets) (3.8.1)\n",
            "Requirement already satisfied: python-dateutil>=2.7.3 in /usr/local/lib/python3.7/dist-packages (from pandas->datasets) (2.8.2)\n",
            "Requirement already satisfied: pytz>=2017.3 in /usr/local/lib/python3.7/dist-packages (from pandas->datasets) (2022.1)\n",
            "Requirement already satisfied: six>=1.5 in /usr/local/lib/python3.7/dist-packages (from python-dateutil>=2.7.3->pandas->datasets) (1.15.0)\n"
          ]
        }
      ]
    },
    {
      "cell_type": "markdown",
      "metadata": {
        "id": "oM_8ELnJq_wd"
      },
      "source": [
        "## Testing the GPU\n",
        "\n",
        "Next, we'll confirm that we can connect to the GPU with tensorflow:"
      ]
    },
    {
      "cell_type": "code",
      "execution_count": 28,
      "metadata": {
        "colab": {
          "base_uri": "https://localhost:8080/"
        },
        "id": "sXnDmXR7RDr2",
        "outputId": "a99a9759-4a58-47c5-a059-a4612b37a5bd"
      },
      "outputs": [
        {
          "output_type": "stream",
          "name": "stdout",
          "text": [
            "Found GPU at: /device:GPU:0\n"
          ]
        }
      ],
      "source": [
        "device_name = tf.test.gpu_device_name()\n",
        "if device_name != '/device:GPU:0':\n",
        "  print('GPU device not found : Out of quota !')\n",
        "else:\n",
        "  print('Found GPU at: {}'.format(device_name))"
      ]
    },
    {
      "cell_type": "markdown",
      "source": [
        "## Forcing seed\n",
        "\n",
        "This helps reproducibility, feel free to play with !"
      ],
      "metadata": {
        "id": "wOydxfaJmyaK"
      }
    },
    {
      "cell_type": "code",
      "source": [
        "np.random.seed(42)"
      ],
      "metadata": {
        "id": "66awsM8anYz2"
      },
      "execution_count": 29,
      "outputs": []
    },
    {
      "cell_type": "markdown",
      "source": [
        "___\n",
        "# Closing on the sentiment classifier "
      ],
      "metadata": {
        "id": "iQiRRdT5njwp"
      }
    },
    {
      "cell_type": "markdown",
      "source": [
        "## Library and dataset "
      ],
      "metadata": {
        "id": "Y8XbbQ9PoRxH"
      }
    },
    {
      "cell_type": "markdown",
      "source": [
        "### Importing from HuggingFace"
      ],
      "metadata": {
        "id": "8DxdVvl9onFS"
      }
    },
    {
      "cell_type": "code",
      "source": [
        "from datasets import load_dataset\n",
        "ds_imdb_raw = load_dataset(\"imdb\")"
      ],
      "metadata": {
        "colab": {
          "base_uri": "https://localhost:8080/",
          "height": 67,
          "referenced_widgets": [
            "3e6eda94322d49eba26d80212236f3b6",
            "7e979d6210d049abb9a14279f39b9d67",
            "1b4ef06bc2a64b6c8d7c67f7892da4b6",
            "33cab824f86845ed86c8e1e6147f7290",
            "8551f8ad412b4e07bfbee337faeba29c",
            "1300167d8f0c46d0adaf0d0e1b5b57da",
            "c415b6dc517d4723a04b6556aa777d0f",
            "b8b7ad39a6a84172b75b9a149b062125",
            "051e0c7e35a54edc9587d5407d6c9e5f",
            "882d5ba3119a47a2b0293909ea93c345",
            "e14e6071224e45ae9378c8970fdb95de"
          ]
        },
        "id": "VAYb94nOo5tU",
        "outputId": "6729a269-039c-4a00-db3a-9827ac5715b3"
      },
      "execution_count": 30,
      "outputs": [
        {
          "output_type": "stream",
          "name": "stderr",
          "text": [
            "WARNING:datasets.builder:Reusing dataset imdb (/root/.cache/huggingface/datasets/imdb/plain_text/1.0.0/2fdd8b9bcadd6e7055e742a706876ba43f19faee861df134affd7a3f60fc38a1)\n"
          ]
        },
        {
          "output_type": "display_data",
          "data": {
            "text/plain": [
              "  0%|          | 0/3 [00:00<?, ?it/s]"
            ],
            "application/vnd.jupyter.widget-view+json": {
              "version_major": 2,
              "version_minor": 0,
              "model_id": "3e6eda94322d49eba26d80212236f3b6"
            }
          },
          "metadata": {}
        }
      ]
    },
    {
      "cell_type": "markdown",
      "source": [
        "### Train, test and validation split"
      ],
      "metadata": {
        "id": "Jz1K6aFOotp5"
      }
    },
    {
      "cell_type": "code",
      "source": [
        "# Using HF's train_test_split() function which does everything for us.\n",
        "ds_imdb = ds_imdb_raw[\"train\"].train_test_split(train_size=0.8,\n",
        "                                                stratify_by_column=\"label\",\n",
        "                                                shuffle=True,\n",
        "                                                seed=42)\n",
        "\n",
        "# The func train_test_split() creates a split named 'test', we will rename it.\n",
        "ds_imdb[\"validation\"] = ds_imdb.pop(\"test\")\n",
        "ds_imdb[\"test\"] = ds_imdb_raw[\"test\"]"
      ],
      "metadata": {
        "colab": {
          "base_uri": "https://localhost:8080/"
        },
        "id": "gTqsz9j-o6X_",
        "outputId": "ff03334b-a1af-4422-cd13-33176cc15d06"
      },
      "execution_count": 31,
      "outputs": [
        {
          "output_type": "stream",
          "name": "stderr",
          "text": [
            "WARNING:datasets.arrow_dataset:Loading cached split indices for dataset at /root/.cache/huggingface/datasets/imdb/plain_text/1.0.0/2fdd8b9bcadd6e7055e742a706876ba43f19faee861df134affd7a3f60fc38a1/cache-316e3e0362227587.arrow and /root/.cache/huggingface/datasets/imdb/plain_text/1.0.0/2fdd8b9bcadd6e7055e742a706876ba43f19faee861df134affd7a3f60fc38a1/cache-956e2bd03dfdd083.arrow\n"
          ]
        }
      ]
    },
    {
      "cell_type": "code",
      "source": [
        "# Shuffling and printing DatasetDict's splits.\n",
        "ds_imdb.shuffle(seed=42)"
      ],
      "metadata": {
        "colab": {
          "base_uri": "https://localhost:8080/"
        },
        "id": "x4MyIUYk4UP9",
        "outputId": "52ec0c10-023f-47f6-c7f4-52e8f8794b27"
      },
      "execution_count": 32,
      "outputs": [
        {
          "output_type": "stream",
          "name": "stderr",
          "text": [
            "WARNING:datasets.arrow_dataset:Loading cached shuffled indices for dataset at /root/.cache/huggingface/datasets/imdb/plain_text/1.0.0/2fdd8b9bcadd6e7055e742a706876ba43f19faee861df134affd7a3f60fc38a1/cache-c218226df832e56f.arrow\n",
            "WARNING:datasets.arrow_dataset:Loading cached shuffled indices for dataset at /root/.cache/huggingface/datasets/imdb/plain_text/1.0.0/2fdd8b9bcadd6e7055e742a706876ba43f19faee861df134affd7a3f60fc38a1/cache-50f31a42976fca01.arrow\n",
            "WARNING:datasets.arrow_dataset:Loading cached shuffled indices for dataset at /root/.cache/huggingface/datasets/imdb/plain_text/1.0.0/2fdd8b9bcadd6e7055e742a706876ba43f19faee861df134affd7a3f60fc38a1/cache-b23cfeb68a931a8d.arrow\n"
          ]
        },
        {
          "output_type": "execute_result",
          "data": {
            "text/plain": [
              "DatasetDict({\n",
              "    train: Dataset({\n",
              "        features: ['text', 'label'],\n",
              "        num_rows: 20000\n",
              "    })\n",
              "    validation: Dataset({\n",
              "        features: ['text', 'label'],\n",
              "        num_rows: 5000\n",
              "    })\n",
              "    test: Dataset({\n",
              "        features: ['text', 'label'],\n",
              "        num_rows: 25000\n",
              "    })\n",
              "})"
            ]
          },
          "metadata": {},
          "execution_count": 32
        }
      ]
    },
    {
      "cell_type": "markdown",
      "source": [
        "Making sure it is stratified"
      ],
      "metadata": {
        "id": "PjaYKAbCo616"
      }
    },
    {
      "cell_type": "code",
      "source": [
        "# For each split in our DatasetDict\n",
        "for split, ds in ds_imdb.items():\n",
        "  # We get the class labels\n",
        "  labels = ds.info.features['label'].names\n",
        "  # We count the unique ones (count -> groupby)\n",
        "  _, counts = np.unique(ds['label'], return_counts = True)\n",
        "  # Then we concat all of that !\n",
        "  print(f\"In split {split} :\", dict(zip(labels, counts)))"
      ],
      "metadata": {
        "colab": {
          "base_uri": "https://localhost:8080/"
        },
        "id": "Q8eXtpe0o7FT",
        "outputId": "865acbcb-3060-4125-fb64-ef6bbcae0954"
      },
      "execution_count": 33,
      "outputs": [
        {
          "output_type": "stream",
          "name": "stdout",
          "text": [
            "In split train : {'neg': 10000, 'pos': 10000}\n",
            "In split validation : {'neg': 2500, 'pos': 2500}\n",
            "In split test : {'neg': 12500, 'pos': 12500}\n"
          ]
        }
      ]
    },
    {
      "cell_type": "markdown",
      "source": [
        "All good !"
      ],
      "metadata": {
        "id": "Z_mLFDQG23q1"
      }
    },
    {
      "cell_type": "markdown",
      "source": [
        "## Fine-tuning a model "
      ],
      "metadata": {
        "id": "0ouYoWmDpL5n"
      }
    },
    {
      "cell_type": "markdown",
      "source": [
        "### Laying the gound works"
      ],
      "metadata": {
        "id": "4TaX3er1pv-U"
      }
    },
    {
      "cell_type": "code",
      "source": [
        "from transformers import DistilBertTokenizer, DataCollatorWithPadding\n",
        "from datasets import DatasetDict\n",
        "\n",
        "# Tokenizer taken from loaded model\n",
        "tokenizer = DistilBertTokenizer.from_pretrained('distilbert-base-uncased')\n",
        "\n",
        "def preprocess_function(records : DatasetDict) -> DatasetDict:\n",
        "    return tokenizer(records[\"text\"], truncation=True)\n",
        "\n",
        "# Preprocessing our dataset\n",
        "tokenized_imdb = ds_imdb.map(preprocess_function, batched=True)\n",
        "\n",
        "# Creating DataCollector from tokenizer\n",
        "# Not needed per Trainer's default arg using dynamic padding, but left for clarity.\n",
        "data_collator = DataCollatorWithPadding(tokenizer=tokenizer)"
      ],
      "metadata": {
        "colab": {
          "base_uri": "https://localhost:8080/",
          "height": 651,
          "referenced_widgets": [
            "660efd8907b549b9bcb20f773346d509",
            "5c519a0c0d22412e83718074c47a5a86",
            "22ce2f6cb33a4c6583c85078b5b9a1d1",
            "872576e640ab4b758e651a47a97c1d19",
            "01cc88c24e1b46daa731e1e80f49d1cb",
            "d9948557b6d541b7a09420162efba7a4",
            "12ef21ee3583446b9558ab236349aabf",
            "325adf61143c4d38a6a2da16f8da5984",
            "59f8d2d8e4224dc6894e1b6b7487623d",
            "9f0828d852c542958da7eccdf2e04724",
            "0838502577bf449fada3d71e4133c27d",
            "c92d8b878e9d4cb6afb2235ba72a4460",
            "2afb86a526404331afae65a9cb26b79b",
            "60254d0d1f58412895c511e354a95f32",
            "297c4b156fdc44208d9aac173fe5af85",
            "80f78e6156c745158a1f8ac98153f765",
            "7e1da2455a09496fb769a6da12a8f36e",
            "9a1cc48c891c4f3b9a8fea8c6fce93c8",
            "001b71d9914d4ebb9d3ed8847db8a7cd",
            "77fa4130c7a240c79147c0abc6f14aff",
            "7b90d0e679be44bfaf1ff4e7d0014e85",
            "fe7c549880b74682a61d8e0dbf3d5e50",
            "bb5d300809fc4f3090bfd0bebf13071d",
            "08794982484f42af989cca3c882659e2",
            "05e13e68479e45819db4c383b5995d6c",
            "fc8d97473d384fa5b7980f4402119f81",
            "ba412fcf25524707bc25679988e39a89",
            "8c13975c4cbc4586b32f97e27e5ff19e",
            "d25719d225b74b57adfe262b4eff00b1",
            "6726c14585024397888ac6f8d0da2889",
            "8d7c4251703740e48f0c828432eca2e2",
            "ce6ab5e687694922859df2bff8cccf48",
            "3bfeca5a559f4968bc729f0ea7a55291"
          ]
        },
        "id": "h6V3YaXPpzUX",
        "outputId": "1de49835-50eb-4062-a50e-15e336f7468c"
      },
      "execution_count": 34,
      "outputs": [
        {
          "output_type": "stream",
          "name": "stderr",
          "text": [
            "loading file https://huggingface.co/distilbert-base-uncased/resolve/main/vocab.txt from cache at /root/.cache/huggingface/transformers/0e1bbfda7f63a99bb52e3915dcf10c3c92122b827d92eb2d34ce94ee79ba486c.d789d64ebfe299b0e416afc4a169632f903f693095b4629a7ea271d5a0cf2c99\n",
            "loading file https://huggingface.co/distilbert-base-uncased/resolve/main/added_tokens.json from cache at None\n",
            "loading file https://huggingface.co/distilbert-base-uncased/resolve/main/special_tokens_map.json from cache at None\n",
            "loading file https://huggingface.co/distilbert-base-uncased/resolve/main/tokenizer_config.json from cache at /root/.cache/huggingface/transformers/8c8624b8ac8aa99c60c912161f8332de003484428c47906d7ff7eb7f73eecdbb.20430bd8e10ef77a7d2977accefe796051e01bc2fc4aa146bc862997a1a15e79\n",
            "loading configuration file https://huggingface.co/distilbert-base-uncased/resolve/main/config.json from cache at /root/.cache/huggingface/transformers/23454919702d26495337f3da04d1655c7ee010d5ec9d77bdb9e399e00302c0a1.91b885ab15d631bf9cee9dc9d25ece0afd932f2f5130eba28f2055b2220c0333\n",
            "Model config DistilBertConfig {\n",
            "  \"_name_or_path\": \"distilbert-base-uncased\",\n",
            "  \"activation\": \"gelu\",\n",
            "  \"architectures\": [\n",
            "    \"DistilBertForMaskedLM\"\n",
            "  ],\n",
            "  \"attention_dropout\": 0.1,\n",
            "  \"dim\": 768,\n",
            "  \"dropout\": 0.1,\n",
            "  \"hidden_dim\": 3072,\n",
            "  \"initializer_range\": 0.02,\n",
            "  \"max_position_embeddings\": 512,\n",
            "  \"model_type\": \"distilbert\",\n",
            "  \"n_heads\": 12,\n",
            "  \"n_layers\": 6,\n",
            "  \"pad_token_id\": 0,\n",
            "  \"qa_dropout\": 0.1,\n",
            "  \"seq_classif_dropout\": 0.2,\n",
            "  \"sinusoidal_pos_embds\": false,\n",
            "  \"tie_weights_\": true,\n",
            "  \"transformers_version\": \"4.20.1\",\n",
            "  \"vocab_size\": 30522\n",
            "}\n",
            "\n"
          ]
        },
        {
          "output_type": "display_data",
          "data": {
            "text/plain": [
              "  0%|          | 0/20 [00:00<?, ?ba/s]"
            ],
            "application/vnd.jupyter.widget-view+json": {
              "version_major": 2,
              "version_minor": 0,
              "model_id": "660efd8907b549b9bcb20f773346d509"
            }
          },
          "metadata": {}
        },
        {
          "output_type": "display_data",
          "data": {
            "text/plain": [
              "  0%|          | 0/5 [00:00<?, ?ba/s]"
            ],
            "application/vnd.jupyter.widget-view+json": {
              "version_major": 2,
              "version_minor": 0,
              "model_id": "c92d8b878e9d4cb6afb2235ba72a4460"
            }
          },
          "metadata": {}
        },
        {
          "output_type": "display_data",
          "data": {
            "text/plain": [
              "  0%|          | 0/25 [00:00<?, ?ba/s]"
            ],
            "application/vnd.jupyter.widget-view+json": {
              "version_major": 2,
              "version_minor": 0,
              "model_id": "bb5d300809fc4f3090bfd0bebf13071d"
            }
          },
          "metadata": {}
        }
      ]
    },
    {
      "cell_type": "code",
      "source": [
        "# Our dataset now has two new features : input_ids and attention mask.\n",
        "tokenized_imdb"
      ],
      "metadata": {
        "colab": {
          "base_uri": "https://localhost:8080/"
        },
        "id": "Do6AK22ZYcCt",
        "outputId": "e1d3929a-6e55-450f-91ab-9664280d19c2"
      },
      "execution_count": 35,
      "outputs": [
        {
          "output_type": "execute_result",
          "data": {
            "text/plain": [
              "DatasetDict({\n",
              "    train: Dataset({\n",
              "        features: ['text', 'label', 'input_ids', 'attention_mask'],\n",
              "        num_rows: 20000\n",
              "    })\n",
              "    validation: Dataset({\n",
              "        features: ['text', 'label', 'input_ids', 'attention_mask'],\n",
              "        num_rows: 5000\n",
              "    })\n",
              "    test: Dataset({\n",
              "        features: ['text', 'label', 'input_ids', 'attention_mask'],\n",
              "        num_rows: 25000\n",
              "    })\n",
              "})"
            ]
          },
          "metadata": {},
          "execution_count": 35
        }
      ]
    },
    {
      "cell_type": "code",
      "source": [
        "from transformers import AutoModelForSequenceClassification\n",
        "\n",
        "# Model used is \"distilbert-base-uncased\", as per recommended by the subject\n",
        "model = AutoModelForSequenceClassification.from_pretrained(\"distilbert-base-uncased\", num_labels=2)"
      ],
      "metadata": {
        "colab": {
          "base_uri": "https://localhost:8080/"
        },
        "id": "_8NvA5MmToKF",
        "outputId": "6ee8c3ec-f625-4b4e-b742-05a7ccdfcc79"
      },
      "execution_count": 36,
      "outputs": [
        {
          "output_type": "stream",
          "name": "stderr",
          "text": [
            "loading configuration file https://huggingface.co/distilbert-base-uncased/resolve/main/config.json from cache at /root/.cache/huggingface/transformers/23454919702d26495337f3da04d1655c7ee010d5ec9d77bdb9e399e00302c0a1.91b885ab15d631bf9cee9dc9d25ece0afd932f2f5130eba28f2055b2220c0333\n",
            "Model config DistilBertConfig {\n",
            "  \"_name_or_path\": \"distilbert-base-uncased\",\n",
            "  \"activation\": \"gelu\",\n",
            "  \"architectures\": [\n",
            "    \"DistilBertForMaskedLM\"\n",
            "  ],\n",
            "  \"attention_dropout\": 0.1,\n",
            "  \"dim\": 768,\n",
            "  \"dropout\": 0.1,\n",
            "  \"hidden_dim\": 3072,\n",
            "  \"initializer_range\": 0.02,\n",
            "  \"max_position_embeddings\": 512,\n",
            "  \"model_type\": \"distilbert\",\n",
            "  \"n_heads\": 12,\n",
            "  \"n_layers\": 6,\n",
            "  \"pad_token_id\": 0,\n",
            "  \"qa_dropout\": 0.1,\n",
            "  \"seq_classif_dropout\": 0.2,\n",
            "  \"sinusoidal_pos_embds\": false,\n",
            "  \"tie_weights_\": true,\n",
            "  \"transformers_version\": \"4.20.1\",\n",
            "  \"vocab_size\": 30522\n",
            "}\n",
            "\n",
            "loading weights file https://huggingface.co/distilbert-base-uncased/resolve/main/pytorch_model.bin from cache at /root/.cache/huggingface/transformers/9c169103d7e5a73936dd2b627e42851bec0831212b677c637033ee4bce9ab5ee.126183e36667471617ae2f0835fab707baa54b731f991507ebbb55ea85adb12a\n",
            "Some weights of the model checkpoint at distilbert-base-uncased were not used when initializing DistilBertForSequenceClassification: ['vocab_layer_norm.weight', 'vocab_layer_norm.bias', 'vocab_transform.weight', 'vocab_transform.bias', 'vocab_projector.bias', 'vocab_projector.weight']\n",
            "- This IS expected if you are initializing DistilBertForSequenceClassification from the checkpoint of a model trained on another task or with another architecture (e.g. initializing a BertForSequenceClassification model from a BertForPreTraining model).\n",
            "- This IS NOT expected if you are initializing DistilBertForSequenceClassification from the checkpoint of a model that you expect to be exactly identical (initializing a BertForSequenceClassification model from a BertForSequenceClassification model).\n",
            "Some weights of DistilBertForSequenceClassification were not initialized from the model checkpoint at distilbert-base-uncased and are newly initialized: ['pre_classifier.bias', 'classifier.bias', 'classifier.weight', 'pre_classifier.weight']\n",
            "You should probably TRAIN this model on a down-stream task to be able to use it for predictions and inference.\n"
          ]
        }
      ]
    },
    {
      "cell_type": "markdown",
      "source": [
        "### Sample test run\n",
        "\n"
      ],
      "metadata": {
        "id": "XpxI8oyTpQrW"
      }
    },
    {
      "cell_type": "code",
      "source": [
        "from transformers import TrainingArguments, Trainer\n",
        "\n",
        "# Training arguments : a single epoch\n",
        "training_args = TrainingArguments(\n",
        "    output_dir=\"./results\",\n",
        "    num_train_epochs=1,\n",
        ")\n",
        "\n",
        "# Simple trainer using our previous tokenizer.\n",
        "# Data collator is not even needed here.\n",
        "trainer = Trainer(\n",
        "    model=model,\n",
        "    args=training_args,\n",
        "    train_dataset=tokenized_imdb[\"train\"],\n",
        "    eval_dataset=tokenized_imdb[\"validation\"],\n",
        "    tokenizer=tokenizer,\n",
        "    data_collator=data_collator,\n",
        ")"
      ],
      "metadata": {
        "colab": {
          "base_uri": "https://localhost:8080/"
        },
        "id": "wEYt-gbKpQTn",
        "outputId": "6581be33-bfa3-4285-fa39-c174d84d0845"
      },
      "execution_count": 37,
      "outputs": [
        {
          "output_type": "stream",
          "name": "stderr",
          "text": [
            "PyTorch: setting up devices\n",
            "The default value for the training argument `--report_to` will change in v5 (from all installed integrations to none). In v5, you will need to use `--report_to all` to get the same behavior as now. You should start updating your code and make this info disappear :-).\n"
          ]
        }
      ]
    },
    {
      "cell_type": "code",
      "source": [
        "trainer.train()"
      ],
      "metadata": {
        "colab": {
          "base_uri": "https://localhost:8080/",
          "height": 1000
        },
        "id": "n6y76N38pqAE",
        "outputId": "a4ae3805-a549-4f21-8d1b-3077841d0ec0"
      },
      "execution_count": 38,
      "outputs": [
        {
          "output_type": "stream",
          "name": "stderr",
          "text": [
            "The following columns in the training set don't have a corresponding argument in `DistilBertForSequenceClassification.forward` and have been ignored: text. If text are not expected by `DistilBertForSequenceClassification.forward`,  you can safely ignore this message.\n",
            "/usr/local/lib/python3.7/dist-packages/transformers/optimization.py:310: FutureWarning: This implementation of AdamW is deprecated and will be removed in a future version. Use the PyTorch implementation torch.optim.AdamW instead, or set `no_deprecation_warning=True` to disable this warning\n",
            "  FutureWarning,\n",
            "***** Running training *****\n",
            "  Num examples = 20000\n",
            "  Num Epochs = 1\n",
            "  Instantaneous batch size per device = 8\n",
            "  Total train batch size (w. parallel, distributed & accumulation) = 8\n",
            "  Gradient Accumulation steps = 1\n",
            "  Total optimization steps = 2500\n"
          ]
        },
        {
          "output_type": "display_data",
          "data": {
            "text/plain": [
              "<IPython.core.display.HTML object>"
            ],
            "text/html": [
              "\n",
              "    <div>\n",
              "      \n",
              "      <progress value='2500' max='2500' style='width:300px; height:20px; vertical-align: middle;'></progress>\n",
              "      [2500/2500 16:50, Epoch 1/1]\n",
              "    </div>\n",
              "    <table border=\"1\" class=\"dataframe\">\n",
              "  <thead>\n",
              " <tr style=\"text-align: left;\">\n",
              "      <th>Step</th>\n",
              "      <th>Training Loss</th>\n",
              "    </tr>\n",
              "  </thead>\n",
              "  <tbody>\n",
              "    <tr>\n",
              "      <td>500</td>\n",
              "      <td>0.393000</td>\n",
              "    </tr>\n",
              "    <tr>\n",
              "      <td>1000</td>\n",
              "      <td>0.317600</td>\n",
              "    </tr>\n",
              "    <tr>\n",
              "      <td>1500</td>\n",
              "      <td>0.293600</td>\n",
              "    </tr>\n",
              "    <tr>\n",
              "      <td>2000</td>\n",
              "      <td>0.253000</td>\n",
              "    </tr>\n",
              "    <tr>\n",
              "      <td>2500</td>\n",
              "      <td>0.263800</td>\n",
              "    </tr>\n",
              "  </tbody>\n",
              "</table><p>"
            ]
          },
          "metadata": {}
        },
        {
          "output_type": "stream",
          "name": "stderr",
          "text": [
            "Saving model checkpoint to ./results/checkpoint-500\n",
            "Configuration saved in ./results/checkpoint-500/config.json\n",
            "Model weights saved in ./results/checkpoint-500/pytorch_model.bin\n",
            "tokenizer config file saved in ./results/checkpoint-500/tokenizer_config.json\n",
            "Special tokens file saved in ./results/checkpoint-500/special_tokens_map.json\n",
            "Saving model checkpoint to ./results/checkpoint-1000\n",
            "Configuration saved in ./results/checkpoint-1000/config.json\n",
            "Model weights saved in ./results/checkpoint-1000/pytorch_model.bin\n",
            "tokenizer config file saved in ./results/checkpoint-1000/tokenizer_config.json\n",
            "Special tokens file saved in ./results/checkpoint-1000/special_tokens_map.json\n",
            "Saving model checkpoint to ./results/checkpoint-1500\n",
            "Configuration saved in ./results/checkpoint-1500/config.json\n",
            "Model weights saved in ./results/checkpoint-1500/pytorch_model.bin\n",
            "tokenizer config file saved in ./results/checkpoint-1500/tokenizer_config.json\n",
            "Special tokens file saved in ./results/checkpoint-1500/special_tokens_map.json\n",
            "Saving model checkpoint to ./results/checkpoint-2000\n",
            "Configuration saved in ./results/checkpoint-2000/config.json\n",
            "Model weights saved in ./results/checkpoint-2000/pytorch_model.bin\n",
            "tokenizer config file saved in ./results/checkpoint-2000/tokenizer_config.json\n",
            "Special tokens file saved in ./results/checkpoint-2000/special_tokens_map.json\n",
            "Saving model checkpoint to ./results/checkpoint-2500\n",
            "Configuration saved in ./results/checkpoint-2500/config.json\n",
            "Model weights saved in ./results/checkpoint-2500/pytorch_model.bin\n",
            "tokenizer config file saved in ./results/checkpoint-2500/tokenizer_config.json\n",
            "Special tokens file saved in ./results/checkpoint-2500/special_tokens_map.json\n",
            "\n",
            "\n",
            "Training completed. Do not forget to share your model on huggingface.co/models =)\n",
            "\n",
            "\n"
          ]
        },
        {
          "output_type": "execute_result",
          "data": {
            "text/plain": [
              "TrainOutput(global_step=2500, training_loss=0.30420628356933593, metrics={'train_runtime': 1010.5709, 'train_samples_per_second': 19.791, 'train_steps_per_second': 2.474, 'total_flos': 2503836675302592.0, 'train_loss': 0.30420628356933593, 'epoch': 1.0})"
            ]
          },
          "metadata": {},
          "execution_count": 38
        }
      ]
    },
    {
      "cell_type": "markdown",
      "source": [
        "### Training workflow"
      ],
      "metadata": {
        "id": "JK56EDH-p5U3"
      }
    },
    {
      "cell_type": "code",
      "source": [
        "from datasets import load_metric\n",
        "\n",
        "# Metrics computing function that will be given to Trainer object\n",
        "metric = load_metric(\"accuracy\")\n",
        "\n",
        "# Wrapping it, because Trainer objects return \"logits\"\n",
        "def compute_metrics(eval_pred):\n",
        "    logits, labels = eval_pred\n",
        "    predictions = np.argmax(logits, axis=-1)\n",
        "    return metric.compute(predictions=predictions, references=labels)"
      ],
      "metadata": {
        "id": "RB4ShyL2p-OU"
      },
      "execution_count": 39,
      "outputs": []
    },
    {
      "cell_type": "code",
      "source": [
        "# Using more precise parameters this time\n",
        "# As well as an evaluation every epochs\n",
        "training_args = TrainingArguments(\n",
        "    output_dir=\"./results\",\n",
        "    num_train_epochs=5,\n",
        "    learning_rate=2e-5,\n",
        "    per_device_train_batch_size=16,\n",
        "    per_device_eval_batch_size=16,\n",
        "    weight_decay=0.01,\n",
        "    evaluation_strategy=\"epoch\"\n",
        ")\n",
        "\n",
        "# Same as before, just with different training args\n",
        "trainer = Trainer(\n",
        "    model=model,\n",
        "    args=training_args,\n",
        "    train_dataset=tokenized_imdb[\"train\"],\n",
        "    eval_dataset=tokenized_imdb[\"validation\"],\n",
        "    tokenizer=tokenizer,\n",
        "    data_collator=data_collator,\n",
        "    compute_metrics=compute_metrics\n",
        ")"
      ],
      "metadata": {
        "colab": {
          "base_uri": "https://localhost:8080/"
        },
        "id": "fDOPv0jURY-u",
        "outputId": "71bea05e-df53-473e-ff7e-8f33e7e2f76f"
      },
      "execution_count": 40,
      "outputs": [
        {
          "output_type": "stream",
          "name": "stderr",
          "text": [
            "PyTorch: setting up devices\n",
            "The default value for the training argument `--report_to` will change in v5 (from all installed integrations to none). In v5, you will need to use `--report_to all` to get the same behavior as now. You should start updating your code and make this info disappear :-).\n"
          ]
        }
      ]
    },
    {
      "cell_type": "code",
      "source": [
        "trainer.train()"
      ],
      "metadata": {
        "colab": {
          "base_uri": "https://localhost:8080/",
          "height": 1000
        },
        "id": "K9fpqPEJSjPp",
        "outputId": "2009f3f2-b6e3-48b6-8a5f-bdb127336a22"
      },
      "execution_count": 41,
      "outputs": [
        {
          "output_type": "stream",
          "name": "stderr",
          "text": [
            "The following columns in the training set don't have a corresponding argument in `DistilBertForSequenceClassification.forward` and have been ignored: text. If text are not expected by `DistilBertForSequenceClassification.forward`,  you can safely ignore this message.\n",
            "/usr/local/lib/python3.7/dist-packages/transformers/optimization.py:310: FutureWarning: This implementation of AdamW is deprecated and will be removed in a future version. Use the PyTorch implementation torch.optim.AdamW instead, or set `no_deprecation_warning=True` to disable this warning\n",
            "  FutureWarning,\n",
            "***** Running training *****\n",
            "  Num examples = 20000\n",
            "  Num Epochs = 5\n",
            "  Instantaneous batch size per device = 16\n",
            "  Total train batch size (w. parallel, distributed & accumulation) = 16\n",
            "  Gradient Accumulation steps = 1\n",
            "  Total optimization steps = 6250\n"
          ]
        },
        {
          "output_type": "display_data",
          "data": {
            "text/plain": [
              "<IPython.core.display.HTML object>"
            ],
            "text/html": [
              "\n",
              "    <div>\n",
              "      \n",
              "      <progress value='2176' max='6250' style='width:300px; height:20px; vertical-align: middle;'></progress>\n",
              "      [2176/6250 30:41 < 57:30, 1.18 it/s, Epoch 1.74/5]\n",
              "    </div>\n",
              "    <table border=\"1\" class=\"dataframe\">\n",
              "  <thead>\n",
              " <tr style=\"text-align: left;\">\n",
              "      <th>Epoch</th>\n",
              "      <th>Training Loss</th>\n",
              "      <th>Validation Loss</th>\n",
              "      <th>Accuracy</th>\n",
              "    </tr>\n",
              "  </thead>\n",
              "  <tbody>\n",
              "    <tr>\n",
              "      <td>1</td>\n",
              "      <td>0.148300</td>\n",
              "      <td>0.214001</td>\n",
              "      <td>0.918200</td>\n",
              "    </tr>\n",
              "  </tbody>\n",
              "</table><p>"
            ]
          },
          "metadata": {}
        },
        {
          "output_type": "stream",
          "name": "stderr",
          "text": [
            "Saving model checkpoint to ./results/checkpoint-500\n",
            "Configuration saved in ./results/checkpoint-500/config.json\n",
            "Model weights saved in ./results/checkpoint-500/pytorch_model.bin\n",
            "tokenizer config file saved in ./results/checkpoint-500/tokenizer_config.json\n",
            "Special tokens file saved in ./results/checkpoint-500/special_tokens_map.json\n",
            "Saving model checkpoint to ./results/checkpoint-1000\n",
            "Configuration saved in ./results/checkpoint-1000/config.json\n",
            "Model weights saved in ./results/checkpoint-1000/pytorch_model.bin\n",
            "tokenizer config file saved in ./results/checkpoint-1000/tokenizer_config.json\n",
            "Special tokens file saved in ./results/checkpoint-1000/special_tokens_map.json\n",
            "The following columns in the evaluation set don't have a corresponding argument in `DistilBertForSequenceClassification.forward` and have been ignored: text. If text are not expected by `DistilBertForSequenceClassification.forward`,  you can safely ignore this message.\n",
            "***** Running Evaluation *****\n",
            "  Num examples = 5000\n",
            "  Batch size = 16\n",
            "Saving model checkpoint to ./results/checkpoint-1500\n",
            "Configuration saved in ./results/checkpoint-1500/config.json\n",
            "Model weights saved in ./results/checkpoint-1500/pytorch_model.bin\n",
            "tokenizer config file saved in ./results/checkpoint-1500/tokenizer_config.json\n",
            "Special tokens file saved in ./results/checkpoint-1500/special_tokens_map.json\n",
            "Saving model checkpoint to ./results/checkpoint-2000\n",
            "Configuration saved in ./results/checkpoint-2000/config.json\n",
            "Model weights saved in ./results/checkpoint-2000/pytorch_model.bin\n",
            "tokenizer config file saved in ./results/checkpoint-2000/tokenizer_config.json\n",
            "Special tokens file saved in ./results/checkpoint-2000/special_tokens_map.json\n"
          ]
        },
        {
          "output_type": "error",
          "ename": "KeyboardInterrupt",
          "evalue": "ignored",
          "traceback": [
            "\u001b[0;31m---------------------------------------------------------------------------\u001b[0m",
            "\u001b[0;31mKeyboardInterrupt\u001b[0m                         Traceback (most recent call last)",
            "\u001b[0;32m<ipython-input-41-3435b262f1ae>\u001b[0m in \u001b[0;36m<module>\u001b[0;34m()\u001b[0m\n\u001b[0;32m----> 1\u001b[0;31m \u001b[0mtrainer\u001b[0m\u001b[0;34m.\u001b[0m\u001b[0mtrain\u001b[0m\u001b[0;34m(\u001b[0m\u001b[0;34m)\u001b[0m\u001b[0;34m\u001b[0m\u001b[0;34m\u001b[0m\u001b[0m\n\u001b[0m",
            "\u001b[0;32m/usr/local/lib/python3.7/dist-packages/transformers/trainer.py\u001b[0m in \u001b[0;36mtrain\u001b[0;34m(self, resume_from_checkpoint, trial, ignore_keys_for_eval, **kwargs)\u001b[0m\n\u001b[1;32m   1411\u001b[0m             \u001b[0mresume_from_checkpoint\u001b[0m\u001b[0;34m=\u001b[0m\u001b[0mresume_from_checkpoint\u001b[0m\u001b[0;34m,\u001b[0m\u001b[0;34m\u001b[0m\u001b[0;34m\u001b[0m\u001b[0m\n\u001b[1;32m   1412\u001b[0m             \u001b[0mtrial\u001b[0m\u001b[0;34m=\u001b[0m\u001b[0mtrial\u001b[0m\u001b[0;34m,\u001b[0m\u001b[0;34m\u001b[0m\u001b[0;34m\u001b[0m\u001b[0m\n\u001b[0;32m-> 1413\u001b[0;31m             \u001b[0mignore_keys_for_eval\u001b[0m\u001b[0;34m=\u001b[0m\u001b[0mignore_keys_for_eval\u001b[0m\u001b[0;34m,\u001b[0m\u001b[0;34m\u001b[0m\u001b[0;34m\u001b[0m\u001b[0m\n\u001b[0m\u001b[1;32m   1414\u001b[0m         )\n\u001b[1;32m   1415\u001b[0m \u001b[0;34m\u001b[0m\u001b[0m\n",
            "\u001b[0;32m/usr/local/lib/python3.7/dist-packages/transformers/trainer.py\u001b[0m in \u001b[0;36m_inner_training_loop\u001b[0;34m(self, batch_size, args, resume_from_checkpoint, trial, ignore_keys_for_eval)\u001b[0m\n\u001b[1;32m   1649\u001b[0m                         \u001b[0mtr_loss_step\u001b[0m \u001b[0;34m=\u001b[0m \u001b[0mself\u001b[0m\u001b[0;34m.\u001b[0m\u001b[0mtraining_step\u001b[0m\u001b[0;34m(\u001b[0m\u001b[0mmodel\u001b[0m\u001b[0;34m,\u001b[0m \u001b[0minputs\u001b[0m\u001b[0;34m)\u001b[0m\u001b[0;34m\u001b[0m\u001b[0;34m\u001b[0m\u001b[0m\n\u001b[1;32m   1650\u001b[0m                 \u001b[0;32melse\u001b[0m\u001b[0;34m:\u001b[0m\u001b[0;34m\u001b[0m\u001b[0;34m\u001b[0m\u001b[0m\n\u001b[0;32m-> 1651\u001b[0;31m                     \u001b[0mtr_loss_step\u001b[0m \u001b[0;34m=\u001b[0m \u001b[0mself\u001b[0m\u001b[0;34m.\u001b[0m\u001b[0mtraining_step\u001b[0m\u001b[0;34m(\u001b[0m\u001b[0mmodel\u001b[0m\u001b[0;34m,\u001b[0m \u001b[0minputs\u001b[0m\u001b[0;34m)\u001b[0m\u001b[0;34m\u001b[0m\u001b[0;34m\u001b[0m\u001b[0m\n\u001b[0m\u001b[1;32m   1652\u001b[0m \u001b[0;34m\u001b[0m\u001b[0m\n\u001b[1;32m   1653\u001b[0m                 if (\n",
            "\u001b[0;32m/usr/local/lib/python3.7/dist-packages/transformers/trainer.py\u001b[0m in \u001b[0;36mtraining_step\u001b[0;34m(self, model, inputs)\u001b[0m\n\u001b[1;32m   2361\u001b[0m             \u001b[0mloss\u001b[0m \u001b[0;34m=\u001b[0m \u001b[0mself\u001b[0m\u001b[0;34m.\u001b[0m\u001b[0mdeepspeed\u001b[0m\u001b[0;34m.\u001b[0m\u001b[0mbackward\u001b[0m\u001b[0;34m(\u001b[0m\u001b[0mloss\u001b[0m\u001b[0;34m)\u001b[0m\u001b[0;34m\u001b[0m\u001b[0;34m\u001b[0m\u001b[0m\n\u001b[1;32m   2362\u001b[0m         \u001b[0;32melse\u001b[0m\u001b[0;34m:\u001b[0m\u001b[0;34m\u001b[0m\u001b[0;34m\u001b[0m\u001b[0m\n\u001b[0;32m-> 2363\u001b[0;31m             \u001b[0mloss\u001b[0m\u001b[0;34m.\u001b[0m\u001b[0mbackward\u001b[0m\u001b[0;34m(\u001b[0m\u001b[0;34m)\u001b[0m\u001b[0;34m\u001b[0m\u001b[0;34m\u001b[0m\u001b[0m\n\u001b[0m\u001b[1;32m   2364\u001b[0m \u001b[0;34m\u001b[0m\u001b[0m\n\u001b[1;32m   2365\u001b[0m         \u001b[0;32mreturn\u001b[0m \u001b[0mloss\u001b[0m\u001b[0;34m.\u001b[0m\u001b[0mdetach\u001b[0m\u001b[0;34m(\u001b[0m\u001b[0;34m)\u001b[0m\u001b[0;34m\u001b[0m\u001b[0;34m\u001b[0m\u001b[0m\n",
            "\u001b[0;32m/usr/local/lib/python3.7/dist-packages/torch/_tensor.py\u001b[0m in \u001b[0;36mbackward\u001b[0;34m(self, gradient, retain_graph, create_graph, inputs)\u001b[0m\n\u001b[1;32m    394\u001b[0m                 \u001b[0mcreate_graph\u001b[0m\u001b[0;34m=\u001b[0m\u001b[0mcreate_graph\u001b[0m\u001b[0;34m,\u001b[0m\u001b[0;34m\u001b[0m\u001b[0;34m\u001b[0m\u001b[0m\n\u001b[1;32m    395\u001b[0m                 inputs=inputs)\n\u001b[0;32m--> 396\u001b[0;31m         \u001b[0mtorch\u001b[0m\u001b[0;34m.\u001b[0m\u001b[0mautograd\u001b[0m\u001b[0;34m.\u001b[0m\u001b[0mbackward\u001b[0m\u001b[0;34m(\u001b[0m\u001b[0mself\u001b[0m\u001b[0;34m,\u001b[0m \u001b[0mgradient\u001b[0m\u001b[0;34m,\u001b[0m \u001b[0mretain_graph\u001b[0m\u001b[0;34m,\u001b[0m \u001b[0mcreate_graph\u001b[0m\u001b[0;34m,\u001b[0m \u001b[0minputs\u001b[0m\u001b[0;34m=\u001b[0m\u001b[0minputs\u001b[0m\u001b[0;34m)\u001b[0m\u001b[0;34m\u001b[0m\u001b[0;34m\u001b[0m\u001b[0m\n\u001b[0m\u001b[1;32m    397\u001b[0m \u001b[0;34m\u001b[0m\u001b[0m\n\u001b[1;32m    398\u001b[0m     \u001b[0;32mdef\u001b[0m \u001b[0mregister_hook\u001b[0m\u001b[0;34m(\u001b[0m\u001b[0mself\u001b[0m\u001b[0;34m,\u001b[0m \u001b[0mhook\u001b[0m\u001b[0;34m)\u001b[0m\u001b[0;34m:\u001b[0m\u001b[0;34m\u001b[0m\u001b[0;34m\u001b[0m\u001b[0m\n",
            "\u001b[0;32m/usr/local/lib/python3.7/dist-packages/torch/autograd/__init__.py\u001b[0m in \u001b[0;36mbackward\u001b[0;34m(tensors, grad_tensors, retain_graph, create_graph, grad_variables, inputs)\u001b[0m\n\u001b[1;32m    173\u001b[0m     Variable._execution_engine.run_backward(  # Calls into the C++ engine to run the backward pass\n\u001b[1;32m    174\u001b[0m         \u001b[0mtensors\u001b[0m\u001b[0;34m,\u001b[0m \u001b[0mgrad_tensors_\u001b[0m\u001b[0;34m,\u001b[0m \u001b[0mretain_graph\u001b[0m\u001b[0;34m,\u001b[0m \u001b[0mcreate_graph\u001b[0m\u001b[0;34m,\u001b[0m \u001b[0minputs\u001b[0m\u001b[0;34m,\u001b[0m\u001b[0;34m\u001b[0m\u001b[0;34m\u001b[0m\u001b[0m\n\u001b[0;32m--> 175\u001b[0;31m         allow_unreachable=True, accumulate_grad=True)  # Calls into the C++ engine to run the backward pass\n\u001b[0m\u001b[1;32m    176\u001b[0m \u001b[0;34m\u001b[0m\u001b[0m\n\u001b[1;32m    177\u001b[0m def grad(\n",
            "\u001b[0;31mKeyboardInterrupt\u001b[0m: "
          ]
        }
      ]
    },
    {
      "cell_type": "markdown",
      "source": [
        "**I HAVE EXHAUSTED MY GPU QUOTA**\n",
        "\n",
        "Please see below the actual results of the training before the cut-off.\n",
        "\n",
        "**Accuracy on training dataset : ~0.92**"
      ],
      "metadata": {
        "id": "t5-UfCLNrgCh"
      }
    },
    {
      "cell_type": "markdown",
      "source": [
        "![Training_result_before_cut_off.jpg](data:image/jpeg;base64,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)"
      ],
      "metadata": {
        "id": "UoZXW_ZVrQuD"
      }
    },
    {
      "cell_type": "markdown",
      "source": [
        "### Model evaluation\n",
        "\n",
        "Accuracy on test data.\n",
        "\n",
        "This is not really representative since it is a different model than the one used when I still had GPU ressources (had to cut off the dataset :-( )\n",
        "-\n",
        "**Accuracy should nonetheless appear here (as proven by previous screenshot)**"
      ],
      "metadata": {
        "id": "79SbqPjxqFxu"
      }
    },
    {
      "cell_type": "code",
      "source": [
        "predictions, label_ids, metrics = trainer.predict(tokenized_imdb[\"test\"])"
      ],
      "metadata": {
        "colab": {
          "base_uri": "https://localhost:8080/",
          "height": 218
        },
        "id": "TwZJNEo7qbvX",
        "outputId": "56b7989b-d7ab-4526-a6e2-8ebb736d5e9d"
      },
      "execution_count": 42,
      "outputs": [
        {
          "output_type": "stream",
          "name": "stderr",
          "text": [
            "The following columns in the test set don't have a corresponding argument in `DistilBertForSequenceClassification.forward` and have been ignored: text. If text are not expected by `DistilBertForSequenceClassification.forward`,  you can safely ignore this message.\n",
            "***** Running Prediction *****\n",
            "  Num examples = 25000\n",
            "  Batch size = 16\n"
          ]
        },
        {
          "output_type": "display_data",
          "data": {
            "text/plain": [
              "<IPython.core.display.HTML object>"
            ],
            "text/html": [
              "\n",
              "    <div>\n",
              "      \n",
              "      <progress value='2176' max='6250' style='width:300px; height:20px; vertical-align: middle;'></progress>\n",
              "      [2176/6250 30:41 < 57:30, 1.18 it/s, Epoch 1.74/5]\n",
              "    </div>\n",
              "    <table border=\"1\" class=\"dataframe\">\n",
              "  <thead>\n",
              " <tr style=\"text-align: left;\">\n",
              "      <th>Epoch</th>\n",
              "      <th>Training Loss</th>\n",
              "      <th>Validation Loss</th>\n",
              "      <th>Accuracy</th>\n",
              "    </tr>\n",
              "  </thead>\n",
              "  <tbody>\n",
              "    <tr>\n",
              "      <td>1</td>\n",
              "      <td>0.148300</td>\n",
              "      <td>0.214001</td>\n",
              "      <td>0.918200</td>\n",
              "    </tr>\n",
              "  </tbody>\n",
              "</table><p>\n",
              "    <div>\n",
              "      \n",
              "      <progress value='1563' max='1563' style='width:300px; height:20px; vertical-align: middle;'></progress>\n",
              "      [1563/1563 07:45]\n",
              "    </div>\n",
              "    "
            ]
          },
          "metadata": {}
        }
      ]
    },
    {
      "cell_type": "code",
      "source": [
        "metrics"
      ],
      "metadata": {
        "colab": {
          "base_uri": "https://localhost:8080/"
        },
        "id": "eMGO6U7z1lWJ",
        "outputId": "2c406801-d048-43b4-8a9b-d42c37a61ff4"
      },
      "execution_count": 83,
      "outputs": [
        {
          "output_type": "execute_result",
          "data": {
            "text/plain": [
              "{'test_accuracy': 0.9238,\n",
              " 'test_loss': 0.32262319326400757,\n",
              " 'test_runtime': 465.7433,\n",
              " 'test_samples_per_second': 53.678,\n",
              " 'test_steps_per_second': 3.356}"
            ]
          },
          "metadata": {},
          "execution_count": 83
        }
      ]
    },
    {
      "cell_type": "markdown",
      "source": [
        "Accuracy on *test* split is **0.9238**\n",
        "\n",
        "### Digging up errors"
      ],
      "metadata": {
        "id": "9G9gXlxmrFQc"
      }
    },
    {
      "cell_type": "code",
      "source": [
        "# Using Numpy mask to get all error documents\n",
        "labels = tokenized_imdb[\"test\"].info.features['label'].names\n",
        "label_preds = np.argmax(predictions, axis=-1)\n",
        "error_mask = np.array(label_preds != label_ids)\n",
        "\n",
        "# Applying mak to dataset and predictions arrays\n",
        "error_docs = np.array(tokenized_imdb[\"test\"])[error_mask]\n",
        "error_preds = label_preds[error_mask]\n",
        "\n",
        "# Simple printing\n",
        "for i, doc in enumerate(error_docs[:10]):\n",
        "  print(f'===> {i+1} : Expected {labels[doc[\"label\"]]} got {labels[error_preds[i]]}\\n{doc[\"text\"]}.\\n')"
      ],
      "metadata": {
        "colab": {
          "base_uri": "https://localhost:8080/"
        },
        "id": "pnbRX2csrI9h",
        "outputId": "c43bfd0c-523a-481c-92ff-885defdaed8b"
      },
      "execution_count": 98,
      "outputs": [
        {
          "output_type": "stream",
          "name": "stdout",
          "text": [
            "===> 1 : Expected neg got pos\n",
            "First off let me say, If you haven't enjoyed a Van Damme movie since bloodsport, you probably will not like this movie. Most of these movies may not have the best plots or best actors but I enjoy these kinds of movies for what they are. This movie is much better than any of the movies the other action guys (Segal and Dolph) have thought about putting out the past few years. Van Damme is good in the movie, the movie is only worth watching to Van Damme fans. It is not as good as Wake of Death (which i highly recommend to anyone of likes Van Damme) or In hell but, in my opinion it's worth watching. It has the same type of feel to it as Nowhere to Run. Good fun stuff!.\n",
            "\n",
            "===> 2 : Expected neg got pos\n",
            "Ben, (Rupert Grint), is a deeply unhappy adolescent, the son of his unhappily married parents. His father, (Nicholas Farrell), is a vicar and his mother, (Laura Linney), is ... well, let's just say she's a somewhat hypocritical soldier in Jesus' army. It's only when he takes a summer job as an assistant to a foul-mouthed, eccentric, once-famous and now-forgotten actress Evie Walton, (Julie Walters), that he finally finds himself in true 'Harold and Maude' fashion. Of course, Evie is deeply unhappy herself and it's only when these two sad sacks find each other that they can put their mutual misery aside and hit the road to happiness.<br /><br />Of course it's corny and sentimental and very predictable but it has a hard side to it, too and Walters, who could sleep-walk her way through this sort of thing if she wanted, is excellent. It's when she puts the craziness to one side and finds the pathos in the character, (like hitting the bottle and throwing up in the sink), that she's at her best. The problem is she's the only interesting character in the film (and it's not because of the script which doesn't do anybody any favours). Grint, on the other hand, isn't just unhappy; he's a bit of a bore as well while Linney's starched bitch is completely one-dimensional. (Still, she's got the English accent off pat). The best that can be said for it is that it's mildly enjoyable - with the emphasis on the mildly..\n",
            "\n",
            "===> 3 : Expected neg got pos\n",
            "The only reason this movie is not given a 1 (awful) vote is that the acting of both Ida Lupino and Robert Ryan is superb. Ida Lupino who is lovely, as usual, becomes increasingly distraught as she tries various means to rid herself of a madman. Robert Ryan is terrifying as the menacing stranger whose character, guided only by his disturbed mind, changes from one minute to the next. Seemingly simple and docile, suddenly he becomes clever and threatening. Ms. Lupino's character was in more danger from that house she lived in and her own stupidity than by anyone who came along. She could not manage to get out of her of her own house: windows didn't open, both front and back doors locked and unlocked from the inside with a key. You could not have designed a worse fire-trap if you tried. She did not take the precaution of having even one extra key. Nor could she figure out how to summon help from nearby neighbors or get out of her own basement while she was locked in and out of sight of her captor. I don't know what war her husband was killed in, but if it was World War II, the furnishings in her house, the styles of the clothes, especially the children and the telephone company repairman's car are clearly anachronistic. I recommend watching this movie just to see what oddities you can find..\n",
            "\n",
            "===> 4 : Expected neg got pos\n",
            "Okay, so it was never going to change the world, and it bombed at the box office, but Honky Tonk Freeway is one of those films I fell in love with as a child (the BBC showed it a few times during the 1980s and I happened to have a high quality VHS tape in the machine - lucky, that!) and watched endlessly. I watched the DVD last night and sadly, time has not been kind to this would-be blockbuster. Either that or I've just grown out of this kind of broad, dopey humour. Come on, when Schlesinger is so desperate for laughs he gives us close-ups of novelty underpants with 'amusing' slogans, what can you say about the cast or screenplay?<br /><br />Certainly, it's ambitious, interesting, unusual and sprawling, but it's never once laugh-out-loud funny. I'd describe it as a children's film with some 'adult' overtones - you can safely let your youngsters watch this, despite the 15 certificate. They won't get the drug references, so don't worry about it. I had a pleasant surprise when I realized I'd forgotten just how catchy both the title song and the song-writing truck driver's 'Everybody's Going Faster, Faster' song were, not to mention the town of Ticlaw's patriotic anthem. The whole cast give commendable performances, the photography is crisp and captures the mood of the various locations perfectly, and there's a real time capsule feeling about the fashions, the cars, the gadgets (especially the dashboard-mounted drum machine), the interiors and the pop-culture references - I was more than a little surprised to hear the nutty bum in the bank loudly telling everyone \"I'm OJ Simpson!\", particularly now Simpson's legal tangles have overshadowed his sporting achievements. The snag is, there's almost no plot to speak of, it's way too obvious to be witty and not funny enough to elicit many genuine laughs. I wish I'd left this one as a pleasant memory..\n",
            "\n",
            "===> 5 : Expected neg got pos\n",
            "This is a hard film to rate. While it truly deserves its 3 (or perhaps even a two), for an Al Adamson film, it's exceptional--and practically Adamson's very best. That's because unlike many Adamson films, there are times when NURSE SHERRI almost looks competent. But, being an Adamson film, you know that sooner or later that crappiness MUST rear its ugly head! <br /><br />The film begins with some bizarre cult leader of a huge congregation (six) trying to resurrect a dead guy who looks like he's made of blue cheese. However, in the process, the cult dude has a heart attack and it taken to the hospital. He apparently dies, but it also seems like many of these hospital scenes are missing and a few of them appear much later in the film. In other words, when you see the film, he appears to have possibly recovered--only to hear later that he'd died. Because the guy is the b.f.f. of Satan, however, his evil soul can't die and he comes back to both haunt one of his henchmen and to possess Nurse Sherri.<br /><br />Now, Sherri is obviously a very disturbed lady--demonic possession or not. At times she acts like a zombie and at others she's violently homicidal. So I ask...\"why didn't her boyfriend (a doctor) think this was, perhaps, problematic?!\". In other words, after trying to kill a patient, he neither gets an exorcist nor commits her to the booby hatch!!! Oh, and speaking of boobies...this movie is NOT the breast-filled sex romp its title and posters would indicate. While there are a few bare breasts here and there, they are irrelevant to the plot and only seen very briefly (1/2 second or so) in all but one scene. So, if you are a perv, this movie is not for you--though a few places in the film (such as the nurse undressing for a patient) make it look like the film MIGHT have, at one time, been designed as a porn flick.<br /><br />If you are a bad movie fan, however, there is enough to whet your appetite. Some examples of incompetence are the inability of many of the actors to deliver lines that aren't zombie-like--and I am not even talking about Sherri. Especially noticeable is one of the very final scenes--I have never seen and heard some stilted acting and dialog in my life--and this includes Ed Wood's films! There are also a few more cheap touches, such as the bad animation of the \"green stuff\", the doctor finding a murdered nurse yet continuing to investigate in a house where walls are covered in blood (I'd get a cop...better yet, an army of cops).<br /><br />So despite these problems, why do I think it's good for an Adamson film? Well, the story isn't all bad and he was able to build tension very well. Many false alarms early on made my heart race a bit. Also, the car crash, while irrelevant, came off pretty well and was practically big-budget for Adamson.<br /><br />Overall, not a good film and one most people would be bored watching. However, fans of Adamson or inept films will like it--it does deliver some entertainment in a cheesy manner that will provide a few laughs..\n",
            "\n",
            "===> 6 : Expected neg got pos\n",
            "Wow, another Kevin Costner hero movie. Postman, Tin Cup, Waterworld, Bodyguard, Wyatt Earp, Robin Hood, even that baseball movie. Seems like he makes movies specifically to be the center of attention. The characters are almost always the same ... the heroics, the flaws, the greatness, the fall, the redemption. Yup, within the 1st 5 minutes of the movie, we're all supposed to be in awe of his character, and it builds up more and more from there.<br /><br />And this time the story ... story? ... is just a collage of different movies. You don't need a spoiler; you've seen this movie several times, though it had different titles. You'll know what will happen way before it happens. This is like mixing An Officer and a Gentleman with Backdraft, but both are easily better movies. Watch Backdraft to see how this kind of movie should be made ... and also to see how an good but slightly underrated actor, Russell, plays the hero..\n",
            "\n",
            "===> 7 : Expected neg got pos\n",
            "the usual disclaimer - I do not give 1 star ratings to movies which are harmless, bad, low budget and silly, although they may deserve it. These films are often funny, and get rated 2-4 based sheerly on entertainment value - not as a representation of their exemplary film artistry. This film fits this model perfectly. It is a Mexican monster movie, riddled with voice-over narrative and extremely weak not-so-special effects. The makeup is not that bad, and the acting is sometimes quite entertaining, but this film is almost as silly as Aliens vs Predator and the script isn't half as slick (Aliens vs Predator might get a 1 from me, but I want to see it again before I commit).<br /><br />The plot is ridiculous, but deliciously convoluted. If you've read this far, you must really want to know... A group of remarkably unscientific scientists comprise the main characters. Most of them are heroes - sort of - but one is (of course) mad, and quite perverse. This mad scientist invents a laughable nuclear powered robot (who looks a bit like the tin man from Wizard of Oz, but has a human face inexplicably located inside its head). An Aztec mummy, discovered by the same 'scientist' whose wife just so happens to have been an Aztec princess in a past life (don't ask), is pitted against the robot for the big \"climax\" the fight scene alone is enough to put the most stoic movie watcher on the floor in belly laughs.<br /><br />For what its worth, given the budget and the utter silliness of the script, this is a very entertaining low budget goof ball monster movie. If you're into that sort of thing, go for it..\n",
            "\n",
            "===> 8 : Expected neg got pos\n",
            "**SPOILERS** The third and mercifully last of the Aztec Mummy trilogy in the fact that the series major star-besides the Mummy- actor Ramon Gay, as Dr. Eduardo Almada, was gunned down by the outraged husband of a woman he was having an affair with on May 28, 1960! Still that didn't stop Gay, in him being edited into them from his previous films, from being in a number of future Mexican horror movies made over the next four years after his death.<br /><br />In \"Robot vs the Aztec Mummy\" we have the once again mad scientist Dr. Krupp trying to get his hands on the Mummy's golden breastplate and bracelet in order, by having them deciphered, to find the Aztez treasure that's been secretly buried somewhere in modern Mexico City over 500 years ago. \"Robot vs the Aztec Mummy\" is not much as a movie in itself in that its made up of stock footage of the previous Aztec Mummy films that take up over half of the films running time.<br /><br />After getting introduced to the movie's cast members, some who have been killed in the previous Aztec Mummy films, we get down to the real nitty gritty in it involving the evil as well as criminally insane Dr. Krupp also know as \"The Bat\". Dr. Krupp-who looks like a wild eyed and crazed Orson Wells-is a man with boundless visions of grandeur in him not only uncovering the long lost Aztec treasure but now, unlike in the two previous movies he was in, creating life and using it in making an army of human robots to take over the world. An idea he must have gotten from watching Ed Wood's 1955 \"Atomic Superman\" classic \"Bride of the Monster\".<br /><br />Unable to handle the Mummy in his two other encounters with it, where he ended up getting thrown by it into a snake pit filled with deadly rattlers, Dr. Krupp had created a robot, with a human cadaver stuffed in it, to the job, of doing in the Mummy, for him. With he Mummy sleeping in its tomb at a local Mexico City cemetery Dr. Krupp has his Robot-Man brake into the Mummy's crypt to do battle with it and destroy it with its bolts of deadly radiation. <br /><br />***SPOILERS*** The big built-up to the Aztec Mummy Robot-Man confrontation turns to be a big let-down with the Mummy having no trouble at all dispatching the \"Tin-Man\" in less then 30 seconds together with its creator Dr. Krupp. All this while both Dr. Almada and his friend and assistant Pinacate, who came to the Mummy's aid, have nothing at all to do but sit back and watch the action. Now without the mad and off-the-wall Dr. Krupp annoying it the Mummy can go back to its eternal resting place without ever worrying about the problems of the modern world at large, like Dr. Krupp, that it has really no interest in..\n",
            "\n",
            "===> 9 : Expected neg got pos\n",
            "There must be an error. This movie belongs with \"Plan 9\", and a lot others as a quite entertaining, silly diversion. You'll never accept you like it, yet you will watch it whenever it comes out on TV. It's as simple as that..\n",
            "\n",
            "===> 10 : Expected neg got pos\n",
            "At the heart of almost every truly great crime thriller is a carefully considered, methodically planned-out high stakes super-crime, which 9 times out of 10 is committed by a bunch of likable, grey-scale morality underdogs for who life isn't fair, for whom getting back at the man is, well, something worth cheering for. First-time screenwriter James V. Simpson's script for Armored gets this half right. He made extra-double-sure that we've got nothing but sympathy for the recently orphaned, Iraq war veteran Ty Hackett (Stomp the Yard's Columbus Short), who's about to have his house taken away by an evil bank (brother, I've been there). And he gave Ty a good family friend in Mike (Matt Dillon) who is super nice and gets him a job at the armored car company that he works at with Baines (Lawrence Fishbourne) and some weird French dude (Jean Reno). These guys like to have fun and play pranks, but they are also serious armored car guys too, so that means they carry guns and are tough.<br /><br />After a short while, as one theoretically watches Armored, one might start to think as I did, that maybe - just maybe - this is going to be some kind of awesome, tongue-in-cheek, cornball heist movie with some on-the-nose characterizations that move the story along its natural course, cranking up the personal stakes of all involved in hopes of unveiling a really, really clever plan with lots of potential 'holy sh*t' moments. I mean, the music alone is textbook heist-movie - gritty, edgy beats working overtime as we're treated to close-ups of characters who say things like \"As a matter of fact I do,\" and \"Are you crazy??\" For 45 minutes or so, the movie had some serious genre-flick potential.<br /><br />Then things start to really stink. These dudes, these idiots, have no plan. There's no \"Ok, here's what we're gonna do...\" scene, no blueprints, no explosives, no black van or ski-masks (despite their 'test-run', as can be seen in a trailer). No, these guys are going to steal $42 million dollars from their own trucks (which are only being tracked by HOURLY contact over the radio, despite being equipped with some fancy, big-deal 'GPS technology'), and they aren't even going to sit down and discuss it. Hell, Mike only tells Ty about the plan the night before, which is completely ridiculous. But of course, Ty's got his house to think about so as long as Mike promises that 'no one will get hurt,' he's on board. Guess what, though. Somebody gets hurt. Why? Because, besides driving the trucks into an abandoned factory to hide the money, they have no plan. That was it. That was how far they thought things out. So, naturally, things start to unravel. These cats deserve everything they get for being so unprepared.<br /><br />This script, frankly, feels like it's like the product of some bad improv game: \"Armored Car, robbed by its own guards...GO!\" Despite some half-decent buildup that could have maybe taken the film in a few interesting directions, the story just completely falls apart, and pretty soon, NOTHING makes sense, or is even remotely plausible.<br /><br />When filmmakers don't have a cool \"hook\" for their heist, their characters seem stupid, and bungling. And when characters are stupid, and bungling, it's hard for an audience to invest in them, and their story. And when that happens, any suspense drains out the bottom of the movie, leaving a laughable, hollow husk.<br /><br />Skip it. 3/10.\n",
            "\n"
          ]
        }
      ]
    },
    {
      "cell_type": "markdown",
      "source": [
        "**Analysis**\n",
        "\n",
        "To be honest with our model, I would point **Review #1** to be positive too. While the author downplays Van Damme movies, which he acknowledge as not being for everybody, he still liked it the movie nonetheless \"*Good fun stuff!*\".\n",
        "\n",
        "When can consider another perspective though, maybe we didn't understand the fundamental question of the dataset : While the authors *appreciated* the movie, he does not *recommend* it. Therefore we fell into the same trap as our model : *not recommended*.\n",
        "\n",
        "**Review #2** is on the dead center of mediocrity. Even the reviwever doesn't seems to be sure (i.e. a solid 5/10 : \"*midly enjoyable*\").\n",
        "\n",
        "**Review #6 is more interesting** : it seems the model fell into the *sarcastic and snarky tone* used by the author. It seems the underlying text here has not been understood. (Mostly the prevalence of \"*...*\" should have been a clue)."
      ],
      "metadata": {
        "id": "oBlAglGvQV2C"
      }
    },
    {
      "cell_type": "markdown",
      "source": [
        "### ***DistilBert* vs *NaiveBayes***\n",
        "\n",
        "The *DistilBERT* model used here is empirically better than our previous *NaiveBayes*, accuracy wise.\n",
        "\n",
        "Thanks to the mechanism of attention, it is also way better at understanding *context*, even on more complex, long-winded sentences (whereas the *NB* model simply used the presence of words to synthetize a result, meaning it was vulnerable to negations depending on the number of N-Gram used).\n",
        "\n",
        "However, while *DistilBERT* is still lighter than classic *BERT* models, it *takes ages* to even just fine-tune to the IMDB dataset. We trained *from scratch* the *NaiveBayes* model a 20th of the time, and without GPU computing !\n",
        "\n",
        "We still gained 10 point of accuracy (~0.8X to ~0.9X), but the discrepancy in ressources used, in term of plus-value gained, may not be worth the upgrade depending on the severity of the task at hands. "
      ],
      "metadata": {
        "id": "WDKYOfvurLfz"
      }
    },
    {
      "cell_type": "markdown",
      "source": [
        "### Fine tune with accuracy as evaluation"
      ],
      "metadata": {
        "id": "EqMh08ZirX1U"
      }
    },
    {
      "cell_type": "code",
      "source": [
        "# It seems we need to derive the Trainer class into our own in order to modify our loss function\n",
        "# Running on CPU ate my time already, have to pass, sorry !"
      ],
      "metadata": {
        "id": "BzPwh41grqaV"
      },
      "execution_count": null,
      "outputs": []
    },
    {
      "cell_type": "markdown",
      "source": [
        "___\n",
        "# Theorical questions\n",
        "Answer the following questions.\n",
        "___\n",
        "\n",
        "**1. What is the purpose of subword tokenization used by transformer models?**\n",
        "   * Part of the answer is in the first part of the course (lesson 2).\n",
        "   * What is the effect on the vocabulary size?\n",
        "   * How does it impact out-of-vocabulary words (words which are not in the training data, but appear in the test data, or production environment)?\n",
        "\n",
        "\n",
        "**Subword tokenization** is used to split composite words without loosing as much information as stemming. For example, *skipping* will become *skip* + *#ing*, we are still getting back to the stem of the word, but keeping on its own the suffix *ing*, which indicates continuity.\n",
        "\n",
        "**This will also reduce vocabulary size**. For example, the corpus *older oldest younger youngest* will be represented by the vocabulary *old* + *young* + *#er* + *#est*, reducing size on greater length corpus. Moreover, the vocabulary is sometimes firther encoded with the more frequent pairs (BPE for example), reducing the size even more.\n",
        "\n",
        "**For OOV words**, it will still try to decomposite them, making the model more robust. Keeping the same example, if *finest* is not known inside the vocabulary, but *finer* and *oldest* are, it will still know the stem *fin* and the suffix *#est*, essentially getting back to the meaning of the word.\n",
        "___\n",
        "\n",
        "**2. What are the differences between an RNN and an LSTM?**\n",
        "   * What problem is an LSTM trying to solve compared to a basic RNN?\n",
        "\n",
        "**Long/Short Term Memory networks are a subsets of Recurrent Neural Network**, albeit more sophisticated ones.\n",
        "\n",
        "Each unit of a RNN forwards its result to the next unit for the latter's computation, essentially propagating information down the sequence. However, doing so tends to dilute the information, making training a RNN on long sequences difficult.\n",
        "\n",
        "LSTM uses *special units* and *gates* that allow the information to fast forward faster, making the training quicker and context travel further down the sequence.\n",
        "\n",
        "___\n",
        "\n",
        "**3. When building an encoder-decoder model using an RNN, what is the purpose of adding attention?**\n",
        "   * What problem are we trying to solve?\n",
        "   * How does attention solve the problem?\n",
        "\n",
        "**The attention mechanism** allows the RNN to *focus* on a specific part of the input sequence.\n",
        "During the encoding phase of RNNs, a single vector need to be used to represent the entire input sequence. However, doing so can cause an information loss during the compression.\n",
        "\n",
        "To do so, it uses a NN to learn which hidden encoder states to favour. (The best example being the translation of \"European Economic area\" to \"Zone Economique Europeenne\", for which the attention score for each words is stronger for its oppposite in the preposition).\n",
        "\n",
        "___\n",
        "\n",
        "**4. In a transformer model what is the multihead attention used for?**\n",
        "   * What the purpose of self-attention?\n",
        "   * Why do we use muliple head instead of one?\n",
        "\n",
        "**Self attention is used to symbolise relation between words**. For example in the sentence \"The quick brown fox jumps over the lazy dog\", self attention will run a scalar product on the sentence to link token between each others.\n",
        "\n",
        "That way, *quick* and *brown* will be linked to *fox* (meaning they will have a greater attention score versus the rest of the sentence), so does *lazy* and *dog*. This behavior would be the same as conventional attention, however, it is better for long term relationship. This would be seen by the link for *jumps*, which would be linked to *fox*, *over*, and *dog*.\n",
        "\n",
        "**We uses multiple head attention as this allows multiple Queries, Keys, and Values**. Usually done *h* times, this gives us that many projections for our sentence inside our embedding spaces (i.e. extracting multiple perspectives according to multiple *subspaces*).\n",
        "\n",
        "___\n",
        "**5. In a transformer, what is the purpose of positional embedding?**\n",
        "   * What would be the problem if we didn't use it?\n",
        "\n",
        "**Positionnal embedding places each words of the vocabulary into a many-dimensionnal euclidian space.**. Each axes of the space is therefore seen as a feature of our tokens. This means that words with closer meanings are also closer in the euclidian space (allowing for easier clusterisation, synonym search, etc).\n",
        "\n",
        "Moreover, embedding spaces are created in such a way that mathematical computation also carries meaning. For example, if $v('token')$ represent the vector of said token into our embedding space, then we could have the following relation :\n",
        "\n",
        "$v('king') - v('man') + v('woman') ~= v('queen')$.\n",
        "\n",
        "___\n",
        "\n",
        "**6. What is the purpose of having benchmarks to evalute models?**\n",
        "\n",
        "Benchmarking models allows us to quantify *how good* a model is for a specific task, while being fed the same amount of information (*dataset*) than other ones. This is often done with the measure of *accuracy*.\n",
        "\n",
        "However, it must be noted than benchmarking a model should also include the ressources allocated to its correct execution (both in *training* and *prediction* phases). A model can be slightly better than another, but if the former takes thrice the ressources, then it may not be worth it.\n",
        "\n",
        "It is especially important to remember that our quest for accuracy is asymptotic, and our energy ressources and carbon footprint *needs* to be accounted for.\n",
        "\n",
        "___\n",
        "\n",
        "\n",
        "**7. In the BERT model, describe the two tasks used for pre-training (unsupervised) with a few sentences.**\n",
        "   * **\\[Bonus\\]** Are they really unsupervised?\n",
        "\n",
        "In order to gain acces to a greater corpus of data, transformer such as BERT have been scraping corpus such as the wikipedia.\n",
        "\n",
        "**To train on such unlabbelled data, they used the masked attention head**. BERT will obscure part of the input sentence it is fed. Then, it will try to guess back the masked words, punishing itself depending on the distance between the guessed token and the real one inside the embedding spaces.\n",
        "\n",
        "While such a traning workflow is used on **unlabelled data**, it is not really **unsupervised**, as the model still as a *correct* sentence as a reference. This kind of workflow would be more akin to *data-augmentation*.\n",
        "\n",
        "___\n",
        "\n",
        "**8. In a few sentences, explain how the triplet loss is used to train a bi-encoder model for semantic similarity?**\n",
        "   * The simplest version of the triplet loss.\n",
        "\n",
        "**Triplet loss is used to increase the *margin* between different classes.** Using a reference *anchor*, *positive* labels (same as the anchor) will be brought closer while *negative* labels (different from the anchor) will be pushed further.\n",
        "\n",
        "Now if we put sentences into a many-dimensional euclidian space (embedding space), similar sentences with similar labels will be brought closer together, essentially clustering them depending on their similarities.\n",
        "___\n",
        "\n",
        "**9. What is the purpose of using an Approximate Nearest Neighbour method to speed up search?**\n",
        "   * What does it reduce?\n",
        "\n",
        "**Approximate Nearest Neighbour speeds up queries (information retrieval) by reducing the least interesting dimensions on which it operates**. Therefore, while it will not return the *absolute closest* point, it will more often then not return one just as good (within a given margin of error which we can tolerate).\n",
        "\n",
        "This is especially important on highly dimensional spaces, which our embedding spaces tends to be.\n",
        "\n",
        "\n",
        "> \"I don't care if you are wrong by X%, now run as fast as you can with that.\"\n",
        "___"
      ],
      "metadata": {
        "id": "ANGgvB5HoHrk"
      }
    }
  ],
  "metadata": {
    "colab": {
      "collapsed_sections": [
        "tMce8muBqXQP",
        "ANGgvB5HoHrk"
      ],
      "name": "Introduction to Natural Language Processing Catch-up 2",
      "toc_visible": true,
      "provenance": [],
      "include_colab_link": true
    },
    "kernelspec": {
      "display_name": "Python 3",
      "name": "python3"
    },
    "accelerator": "GPU",
    "gpuClass": "standard",
    "widgets": {
      "application/vnd.jupyter.widget-state+json": {
        "3e6eda94322d49eba26d80212236f3b6": {
          "model_module": "@jupyter-widgets/controls",
          "model_name": "HBoxModel",
          "model_module_version": "1.5.0",
          "state": {
            "_dom_classes": [],
            "_model_module": "@jupyter-widgets/controls",
            "_model_module_version": "1.5.0",
            "_model_name": "HBoxModel",
            "_view_count": null,
            "_view_module": "@jupyter-widgets/controls",
            "_view_module_version": "1.5.0",
            "_view_name": "HBoxView",
            "box_style": "",
            "children": [
              "IPY_MODEL_7e979d6210d049abb9a14279f39b9d67",
              "IPY_MODEL_1b4ef06bc2a64b6c8d7c67f7892da4b6",
              "IPY_MODEL_33cab824f86845ed86c8e1e6147f7290"
            ],
            "layout": "IPY_MODEL_8551f8ad412b4e07bfbee337faeba29c"
          }
        },
        "7e979d6210d049abb9a14279f39b9d67": {
          "model_module": "@jupyter-widgets/controls",
          "model_name": "HTMLModel",
          "model_module_version": "1.5.0",
          "state": {
            "_dom_classes": [],
            "_model_module": "@jupyter-widgets/controls",
            "_model_module_version": "1.5.0",
            "_model_name": "HTMLModel",
            "_view_count": null,
            "_view_module": "@jupyter-widgets/controls",
            "_view_module_version": "1.5.0",
            "_view_name": "HTMLView",
            "description": "",
            "description_tooltip": null,
            "layout": "IPY_MODEL_1300167d8f0c46d0adaf0d0e1b5b57da",
            "placeholder": "​",
            "style": "IPY_MODEL_c415b6dc517d4723a04b6556aa777d0f",
            "value": "100%"
          }
        },
        "1b4ef06bc2a64b6c8d7c67f7892da4b6": {
          "model_module": "@jupyter-widgets/controls",
          "model_name": "FloatProgressModel",
          "model_module_version": "1.5.0",
          "state": {
            "_dom_classes": [],
            "_model_module": "@jupyter-widgets/controls",
            "_model_module_version": "1.5.0",
            "_model_name": "FloatProgressModel",
            "_view_count": null,
            "_view_module": "@jupyter-widgets/controls",
            "_view_module_version": "1.5.0",
            "_view_name": "ProgressView",
            "bar_style": "success",
            "description": "",
            "description_tooltip": null,
            "layout": "IPY_MODEL_b8b7ad39a6a84172b75b9a149b062125",
            "max": 3,
            "min": 0,
            "orientation": "horizontal",
            "style": "IPY_MODEL_051e0c7e35a54edc9587d5407d6c9e5f",
            "value": 3
          }
        },
        "33cab824f86845ed86c8e1e6147f7290": {
          "model_module": "@jupyter-widgets/controls",
          "model_name": "HTMLModel",
          "model_module_version": "1.5.0",
          "state": {
            "_dom_classes": [],
            "_model_module": "@jupyter-widgets/controls",
            "_model_module_version": "1.5.0",
            "_model_name": "HTMLModel",
            "_view_count": null,
            "_view_module": "@jupyter-widgets/controls",
            "_view_module_version": "1.5.0",
            "_view_name": "HTMLView",
            "description": "",
            "description_tooltip": null,
            "layout": "IPY_MODEL_882d5ba3119a47a2b0293909ea93c345",
            "placeholder": "​",
            "style": "IPY_MODEL_e14e6071224e45ae9378c8970fdb95de",
            "value": " 3/3 [00:00&lt;00:00, 59.32it/s]"
          }
        },
        "8551f8ad412b4e07bfbee337faeba29c": {
          "model_module": "@jupyter-widgets/base",
          "model_name": "LayoutModel",
          "model_module_version": "1.2.0",
          "state": {
            "_model_module": "@jupyter-widgets/base",
            "_model_module_version": "1.2.0",
            "_model_name": "LayoutModel",
            "_view_count": null,
            "_view_module": "@jupyter-widgets/base",
            "_view_module_version": "1.2.0",
            "_view_name": "LayoutView",
            "align_content": null,
            "align_items": null,
            "align_self": null,
            "border": null,
            "bottom": null,
            "display": null,
            "flex": null,
            "flex_flow": null,
            "grid_area": null,
            "grid_auto_columns": null,
            "grid_auto_flow": null,
            "grid_auto_rows": null,
            "grid_column": null,
            "grid_gap": null,
            "grid_row": null,
            "grid_template_areas": null,
            "grid_template_columns": null,
            "grid_template_rows": null,
            "height": null,
            "justify_content": null,
            "justify_items": null,
            "left": null,
            "margin": null,
            "max_height": null,
            "max_width": null,
            "min_height": null,
            "min_width": null,
            "object_fit": null,
            "object_position": null,
            "order": null,
            "overflow": null,
            "overflow_x": null,
            "overflow_y": null,
            "padding": null,
            "right": null,
            "top": null,
            "visibility": null,
            "width": null
          }
        },
        "1300167d8f0c46d0adaf0d0e1b5b57da": {
          "model_module": "@jupyter-widgets/base",
          "model_name": "LayoutModel",
          "model_module_version": "1.2.0",
          "state": {
            "_model_module": "@jupyter-widgets/base",
            "_model_module_version": "1.2.0",
            "_model_name": "LayoutModel",
            "_view_count": null,
            "_view_module": "@jupyter-widgets/base",
            "_view_module_version": "1.2.0",
            "_view_name": "LayoutView",
            "align_content": null,
            "align_items": null,
            "align_self": null,
            "border": null,
            "bottom": null,
            "display": null,
            "flex": null,
            "flex_flow": null,
            "grid_area": null,
            "grid_auto_columns": null,
            "grid_auto_flow": null,
            "grid_auto_rows": null,
            "grid_column": null,
            "grid_gap": null,
            "grid_row": null,
            "grid_template_areas": null,
            "grid_template_columns": null,
            "grid_template_rows": null,
            "height": null,
            "justify_content": null,
            "justify_items": null,
            "left": null,
            "margin": null,
            "max_height": null,
            "max_width": null,
            "min_height": null,
            "min_width": null,
            "object_fit": null,
            "object_position": null,
            "order": null,
            "overflow": null,
            "overflow_x": null,
            "overflow_y": null,
            "padding": null,
            "right": null,
            "top": null,
            "visibility": null,
            "width": null
          }
        },
        "c415b6dc517d4723a04b6556aa777d0f": {
          "model_module": "@jupyter-widgets/controls",
          "model_name": "DescriptionStyleModel",
          "model_module_version": "1.5.0",
          "state": {
            "_model_module": "@jupyter-widgets/controls",
            "_model_module_version": "1.5.0",
            "_model_name": "DescriptionStyleModel",
            "_view_count": null,
            "_view_module": "@jupyter-widgets/base",
            "_view_module_version": "1.2.0",
            "_view_name": "StyleView",
            "description_width": ""
          }
        },
        "b8b7ad39a6a84172b75b9a149b062125": {
          "model_module": "@jupyter-widgets/base",
          "model_name": "LayoutModel",
          "model_module_version": "1.2.0",
          "state": {
            "_model_module": "@jupyter-widgets/base",
            "_model_module_version": "1.2.0",
            "_model_name": "LayoutModel",
            "_view_count": null,
            "_view_module": "@jupyter-widgets/base",
            "_view_module_version": "1.2.0",
            "_view_name": "LayoutView",
            "align_content": null,
            "align_items": null,
            "align_self": null,
            "border": null,
            "bottom": null,
            "display": null,
            "flex": null,
            "flex_flow": null,
            "grid_area": null,
            "grid_auto_columns": null,
            "grid_auto_flow": null,
            "grid_auto_rows": null,
            "grid_column": null,
            "grid_gap": null,
            "grid_row": null,
            "grid_template_areas": null,
            "grid_template_columns": null,
            "grid_template_rows": null,
            "height": null,
            "justify_content": null,
            "justify_items": null,
            "left": null,
            "margin": null,
            "max_height": null,
            "max_width": null,
            "min_height": null,
            "min_width": null,
            "object_fit": null,
            "object_position": null,
            "order": null,
            "overflow": null,
            "overflow_x": null,
            "overflow_y": null,
            "padding": null,
            "right": null,
            "top": null,
            "visibility": null,
            "width": null
          }
        },
        "051e0c7e35a54edc9587d5407d6c9e5f": {
          "model_module": "@jupyter-widgets/controls",
          "model_name": "ProgressStyleModel",
          "model_module_version": "1.5.0",
          "state": {
            "_model_module": "@jupyter-widgets/controls",
            "_model_module_version": "1.5.0",
            "_model_name": "ProgressStyleModel",
            "_view_count": null,
            "_view_module": "@jupyter-widgets/base",
            "_view_module_version": "1.2.0",
            "_view_name": "StyleView",
            "bar_color": null,
            "description_width": ""
          }
        },
        "882d5ba3119a47a2b0293909ea93c345": {
          "model_module": "@jupyter-widgets/base",
          "model_name": "LayoutModel",
          "model_module_version": "1.2.0",
          "state": {
            "_model_module": "@jupyter-widgets/base",
            "_model_module_version": "1.2.0",
            "_model_name": "LayoutModel",
            "_view_count": null,
            "_view_module": "@jupyter-widgets/base",
            "_view_module_version": "1.2.0",
            "_view_name": "LayoutView",
            "align_content": null,
            "align_items": null,
            "align_self": null,
            "border": null,
            "bottom": null,
            "display": null,
            "flex": null,
            "flex_flow": null,
            "grid_area": null,
            "grid_auto_columns": null,
            "grid_auto_flow": null,
            "grid_auto_rows": null,
            "grid_column": null,
            "grid_gap": null,
            "grid_row": null,
            "grid_template_areas": null,
            "grid_template_columns": null,
            "grid_template_rows": null,
            "height": null,
            "justify_content": null,
            "justify_items": null,
            "left": null,
            "margin": null,
            "max_height": null,
            "max_width": null,
            "min_height": null,
            "min_width": null,
            "object_fit": null,
            "object_position": null,
            "order": null,
            "overflow": null,
            "overflow_x": null,
            "overflow_y": null,
            "padding": null,
            "right": null,
            "top": null,
            "visibility": null,
            "width": null
          }
        },
        "e14e6071224e45ae9378c8970fdb95de": {
          "model_module": "@jupyter-widgets/controls",
          "model_name": "DescriptionStyleModel",
          "model_module_version": "1.5.0",
          "state": {
            "_model_module": "@jupyter-widgets/controls",
            "_model_module_version": "1.5.0",
            "_model_name": "DescriptionStyleModel",
            "_view_count": null,
            "_view_module": "@jupyter-widgets/base",
            "_view_module_version": "1.2.0",
            "_view_name": "StyleView",
            "description_width": ""
          }
        },
        "660efd8907b549b9bcb20f773346d509": {
          "model_module": "@jupyter-widgets/controls",
          "model_name": "HBoxModel",
          "model_module_version": "1.5.0",
          "state": {
            "_dom_classes": [],
            "_model_module": "@jupyter-widgets/controls",
            "_model_module_version": "1.5.0",
            "_model_name": "HBoxModel",
            "_view_count": null,
            "_view_module": "@jupyter-widgets/controls",
            "_view_module_version": "1.5.0",
            "_view_name": "HBoxView",
            "box_style": "",
            "children": [
              "IPY_MODEL_5c519a0c0d22412e83718074c47a5a86",
              "IPY_MODEL_22ce2f6cb33a4c6583c85078b5b9a1d1",
              "IPY_MODEL_872576e640ab4b758e651a47a97c1d19"
            ],
            "layout": "IPY_MODEL_01cc88c24e1b46daa731e1e80f49d1cb"
          }
        },
        "5c519a0c0d22412e83718074c47a5a86": {
          "model_module": "@jupyter-widgets/controls",
          "model_name": "HTMLModel",
          "model_module_version": "1.5.0",
          "state": {
            "_dom_classes": [],
            "_model_module": "@jupyter-widgets/controls",
            "_model_module_version": "1.5.0",
            "_model_name": "HTMLModel",
            "_view_count": null,
            "_view_module": "@jupyter-widgets/controls",
            "_view_module_version": "1.5.0",
            "_view_name": "HTMLView",
            "description": "",
            "description_tooltip": null,
            "layout": "IPY_MODEL_d9948557b6d541b7a09420162efba7a4",
            "placeholder": "​",
            "style": "IPY_MODEL_12ef21ee3583446b9558ab236349aabf",
            "value": "100%"
          }
        },
        "22ce2f6cb33a4c6583c85078b5b9a1d1": {
          "model_module": "@jupyter-widgets/controls",
          "model_name": "FloatProgressModel",
          "model_module_version": "1.5.0",
          "state": {
            "_dom_classes": [],
            "_model_module": "@jupyter-widgets/controls",
            "_model_module_version": "1.5.0",
            "_model_name": "FloatProgressModel",
            "_view_count": null,
            "_view_module": "@jupyter-widgets/controls",
            "_view_module_version": "1.5.0",
            "_view_name": "ProgressView",
            "bar_style": "success",
            "description": "",
            "description_tooltip": null,
            "layout": "IPY_MODEL_325adf61143c4d38a6a2da16f8da5984",
            "max": 20,
            "min": 0,
            "orientation": "horizontal",
            "style": "IPY_MODEL_59f8d2d8e4224dc6894e1b6b7487623d",
            "value": 20
          }
        },
        "872576e640ab4b758e651a47a97c1d19": {
          "model_module": "@jupyter-widgets/controls",
          "model_name": "HTMLModel",
          "model_module_version": "1.5.0",
          "state": {
            "_dom_classes": [],
            "_model_module": "@jupyter-widgets/controls",
            "_model_module_version": "1.5.0",
            "_model_name": "HTMLModel",
            "_view_count": null,
            "_view_module": "@jupyter-widgets/controls",
            "_view_module_version": "1.5.0",
            "_view_name": "HTMLView",
            "description": "",
            "description_tooltip": null,
            "layout": "IPY_MODEL_9f0828d852c542958da7eccdf2e04724",
            "placeholder": "​",
            "style": "IPY_MODEL_0838502577bf449fada3d71e4133c27d",
            "value": " 20/20 [02:05&lt;00:00,  5.77s/ba]"
          }
        },
        "01cc88c24e1b46daa731e1e80f49d1cb": {
          "model_module": "@jupyter-widgets/base",
          "model_name": "LayoutModel",
          "model_module_version": "1.2.0",
          "state": {
            "_model_module": "@jupyter-widgets/base",
            "_model_module_version": "1.2.0",
            "_model_name": "LayoutModel",
            "_view_count": null,
            "_view_module": "@jupyter-widgets/base",
            "_view_module_version": "1.2.0",
            "_view_name": "LayoutView",
            "align_content": null,
            "align_items": null,
            "align_self": null,
            "border": null,
            "bottom": null,
            "display": null,
            "flex": null,
            "flex_flow": null,
            "grid_area": null,
            "grid_auto_columns": null,
            "grid_auto_flow": null,
            "grid_auto_rows": null,
            "grid_column": null,
            "grid_gap": null,
            "grid_row": null,
            "grid_template_areas": null,
            "grid_template_columns": null,
            "grid_template_rows": null,
            "height": null,
            "justify_content": null,
            "justify_items": null,
            "left": null,
            "margin": null,
            "max_height": null,
            "max_width": null,
            "min_height": null,
            "min_width": null,
            "object_fit": null,
            "object_position": null,
            "order": null,
            "overflow": null,
            "overflow_x": null,
            "overflow_y": null,
            "padding": null,
            "right": null,
            "top": null,
            "visibility": null,
            "width": null
          }
        },
        "d9948557b6d541b7a09420162efba7a4": {
          "model_module": "@jupyter-widgets/base",
          "model_name": "LayoutModel",
          "model_module_version": "1.2.0",
          "state": {
            "_model_module": "@jupyter-widgets/base",
            "_model_module_version": "1.2.0",
            "_model_name": "LayoutModel",
            "_view_count": null,
            "_view_module": "@jupyter-widgets/base",
            "_view_module_version": "1.2.0",
            "_view_name": "LayoutView",
            "align_content": null,
            "align_items": null,
            "align_self": null,
            "border": null,
            "bottom": null,
            "display": null,
            "flex": null,
            "flex_flow": null,
            "grid_area": null,
            "grid_auto_columns": null,
            "grid_auto_flow": null,
            "grid_auto_rows": null,
            "grid_column": null,
            "grid_gap": null,
            "grid_row": null,
            "grid_template_areas": null,
            "grid_template_columns": null,
            "grid_template_rows": null,
            "height": null,
            "justify_content": null,
            "justify_items": null,
            "left": null,
            "margin": null,
            "max_height": null,
            "max_width": null,
            "min_height": null,
            "min_width": null,
            "object_fit": null,
            "object_position": null,
            "order": null,
            "overflow": null,
            "overflow_x": null,
            "overflow_y": null,
            "padding": null,
            "right": null,
            "top": null,
            "visibility": null,
            "width": null
          }
        },
        "12ef21ee3583446b9558ab236349aabf": {
          "model_module": "@jupyter-widgets/controls",
          "model_name": "DescriptionStyleModel",
          "model_module_version": "1.5.0",
          "state": {
            "_model_module": "@jupyter-widgets/controls",
            "_model_module_version": "1.5.0",
            "_model_name": "DescriptionStyleModel",
            "_view_count": null,
            "_view_module": "@jupyter-widgets/base",
            "_view_module_version": "1.2.0",
            "_view_name": "StyleView",
            "description_width": ""
          }
        },
        "325adf61143c4d38a6a2da16f8da5984": {
          "model_module": "@jupyter-widgets/base",
          "model_name": "LayoutModel",
          "model_module_version": "1.2.0",
          "state": {
            "_model_module": "@jupyter-widgets/base",
            "_model_module_version": "1.2.0",
            "_model_name": "LayoutModel",
            "_view_count": null,
            "_view_module": "@jupyter-widgets/base",
            "_view_module_version": "1.2.0",
            "_view_name": "LayoutView",
            "align_content": null,
            "align_items": null,
            "align_self": null,
            "border": null,
            "bottom": null,
            "display": null,
            "flex": null,
            "flex_flow": null,
            "grid_area": null,
            "grid_auto_columns": null,
            "grid_auto_flow": null,
            "grid_auto_rows": null,
            "grid_column": null,
            "grid_gap": null,
            "grid_row": null,
            "grid_template_areas": null,
            "grid_template_columns": null,
            "grid_template_rows": null,
            "height": null,
            "justify_content": null,
            "justify_items": null,
            "left": null,
            "margin": null,
            "max_height": null,
            "max_width": null,
            "min_height": null,
            "min_width": null,
            "object_fit": null,
            "object_position": null,
            "order": null,
            "overflow": null,
            "overflow_x": null,
            "overflow_y": null,
            "padding": null,
            "right": null,
            "top": null,
            "visibility": null,
            "width": null
          }
        },
        "59f8d2d8e4224dc6894e1b6b7487623d": {
          "model_module": "@jupyter-widgets/controls",
          "model_name": "ProgressStyleModel",
          "model_module_version": "1.5.0",
          "state": {
            "_model_module": "@jupyter-widgets/controls",
            "_model_module_version": "1.5.0",
            "_model_name": "ProgressStyleModel",
            "_view_count": null,
            "_view_module": "@jupyter-widgets/base",
            "_view_module_version": "1.2.0",
            "_view_name": "StyleView",
            "bar_color": null,
            "description_width": ""
          }
        },
        "9f0828d852c542958da7eccdf2e04724": {
          "model_module": "@jupyter-widgets/base",
          "model_name": "LayoutModel",
          "model_module_version": "1.2.0",
          "state": {
            "_model_module": "@jupyter-widgets/base",
            "_model_module_version": "1.2.0",
            "_model_name": "LayoutModel",
            "_view_count": null,
            "_view_module": "@jupyter-widgets/base",
            "_view_module_version": "1.2.0",
            "_view_name": "LayoutView",
            "align_content": null,
            "align_items": null,
            "align_self": null,
            "border": null,
            "bottom": null,
            "display": null,
            "flex": null,
            "flex_flow": null,
            "grid_area": null,
            "grid_auto_columns": null,
            "grid_auto_flow": null,
            "grid_auto_rows": null,
            "grid_column": null,
            "grid_gap": null,
            "grid_row": null,
            "grid_template_areas": null,
            "grid_template_columns": null,
            "grid_template_rows": null,
            "height": null,
            "justify_content": null,
            "justify_items": null,
            "left": null,
            "margin": null,
            "max_height": null,
            "max_width": null,
            "min_height": null,
            "min_width": null,
            "object_fit": null,
            "object_position": null,
            "order": null,
            "overflow": null,
            "overflow_x": null,
            "overflow_y": null,
            "padding": null,
            "right": null,
            "top": null,
            "visibility": null,
            "width": null
          }
        },
        "0838502577bf449fada3d71e4133c27d": {
          "model_module": "@jupyter-widgets/controls",
          "model_name": "DescriptionStyleModel",
          "model_module_version": "1.5.0",
          "state": {
            "_model_module": "@jupyter-widgets/controls",
            "_model_module_version": "1.5.0",
            "_model_name": "DescriptionStyleModel",
            "_view_count": null,
            "_view_module": "@jupyter-widgets/base",
            "_view_module_version": "1.2.0",
            "_view_name": "StyleView",
            "description_width": ""
          }
        },
        "c92d8b878e9d4cb6afb2235ba72a4460": {
          "model_module": "@jupyter-widgets/controls",
          "model_name": "HBoxModel",
          "model_module_version": "1.5.0",
          "state": {
            "_dom_classes": [],
            "_model_module": "@jupyter-widgets/controls",
            "_model_module_version": "1.5.0",
            "_model_name": "HBoxModel",
            "_view_count": null,
            "_view_module": "@jupyter-widgets/controls",
            "_view_module_version": "1.5.0",
            "_view_name": "HBoxView",
            "box_style": "",
            "children": [
              "IPY_MODEL_2afb86a526404331afae65a9cb26b79b",
              "IPY_MODEL_60254d0d1f58412895c511e354a95f32",
              "IPY_MODEL_297c4b156fdc44208d9aac173fe5af85"
            ],
            "layout": "IPY_MODEL_80f78e6156c745158a1f8ac98153f765"
          }
        },
        "2afb86a526404331afae65a9cb26b79b": {
          "model_module": "@jupyter-widgets/controls",
          "model_name": "HTMLModel",
          "model_module_version": "1.5.0",
          "state": {
            "_dom_classes": [],
            "_model_module": "@jupyter-widgets/controls",
            "_model_module_version": "1.5.0",
            "_model_name": "HTMLModel",
            "_view_count": null,
            "_view_module": "@jupyter-widgets/controls",
            "_view_module_version": "1.5.0",
            "_view_name": "HTMLView",
            "description": "",
            "description_tooltip": null,
            "layout": "IPY_MODEL_7e1da2455a09496fb769a6da12a8f36e",
            "placeholder": "​",
            "style": "IPY_MODEL_9a1cc48c891c4f3b9a8fea8c6fce93c8",
            "value": "100%"
          }
        },
        "60254d0d1f58412895c511e354a95f32": {
          "model_module": "@jupyter-widgets/controls",
          "model_name": "FloatProgressModel",
          "model_module_version": "1.5.0",
          "state": {
            "_dom_classes": [],
            "_model_module": "@jupyter-widgets/controls",
            "_model_module_version": "1.5.0",
            "_model_name": "FloatProgressModel",
            "_view_count": null,
            "_view_module": "@jupyter-widgets/controls",
            "_view_module_version": "1.5.0",
            "_view_name": "ProgressView",
            "bar_style": "success",
            "description": "",
            "description_tooltip": null,
            "layout": "IPY_MODEL_001b71d9914d4ebb9d3ed8847db8a7cd",
            "max": 5,
            "min": 0,
            "orientation": "horizontal",
            "style": "IPY_MODEL_77fa4130c7a240c79147c0abc6f14aff",
            "value": 5
          }
        },
        "297c4b156fdc44208d9aac173fe5af85": {
          "model_module": "@jupyter-widgets/controls",
          "model_name": "HTMLModel",
          "model_module_version": "1.5.0",
          "state": {
            "_dom_classes": [],
            "_model_module": "@jupyter-widgets/controls",
            "_model_module_version": "1.5.0",
            "_model_name": "HTMLModel",
            "_view_count": null,
            "_view_module": "@jupyter-widgets/controls",
            "_view_module_version": "1.5.0",
            "_view_name": "HTMLView",
            "description": "",
            "description_tooltip": null,
            "layout": "IPY_MODEL_7b90d0e679be44bfaf1ff4e7d0014e85",
            "placeholder": "​",
            "style": "IPY_MODEL_fe7c549880b74682a61d8e0dbf3d5e50",
            "value": " 5/5 [00:28&lt;00:00,  5.69s/ba]"
          }
        },
        "80f78e6156c745158a1f8ac98153f765": {
          "model_module": "@jupyter-widgets/base",
          "model_name": "LayoutModel",
          "model_module_version": "1.2.0",
          "state": {
            "_model_module": "@jupyter-widgets/base",
            "_model_module_version": "1.2.0",
            "_model_name": "LayoutModel",
            "_view_count": null,
            "_view_module": "@jupyter-widgets/base",
            "_view_module_version": "1.2.0",
            "_view_name": "LayoutView",
            "align_content": null,
            "align_items": null,
            "align_self": null,
            "border": null,
            "bottom": null,
            "display": null,
            "flex": null,
            "flex_flow": null,
            "grid_area": null,
            "grid_auto_columns": null,
            "grid_auto_flow": null,
            "grid_auto_rows": null,
            "grid_column": null,
            "grid_gap": null,
            "grid_row": null,
            "grid_template_areas": null,
            "grid_template_columns": null,
            "grid_template_rows": null,
            "height": null,
            "justify_content": null,
            "justify_items": null,
            "left": null,
            "margin": null,
            "max_height": null,
            "max_width": null,
            "min_height": null,
            "min_width": null,
            "object_fit": null,
            "object_position": null,
            "order": null,
            "overflow": null,
            "overflow_x": null,
            "overflow_y": null,
            "padding": null,
            "right": null,
            "top": null,
            "visibility": null,
            "width": null
          }
        },
        "7e1da2455a09496fb769a6da12a8f36e": {
          "model_module": "@jupyter-widgets/base",
          "model_name": "LayoutModel",
          "model_module_version": "1.2.0",
          "state": {
            "_model_module": "@jupyter-widgets/base",
            "_model_module_version": "1.2.0",
            "_model_name": "LayoutModel",
            "_view_count": null,
            "_view_module": "@jupyter-widgets/base",
            "_view_module_version": "1.2.0",
            "_view_name": "LayoutView",
            "align_content": null,
            "align_items": null,
            "align_self": null,
            "border": null,
            "bottom": null,
            "display": null,
            "flex": null,
            "flex_flow": null,
            "grid_area": null,
            "grid_auto_columns": null,
            "grid_auto_flow": null,
            "grid_auto_rows": null,
            "grid_column": null,
            "grid_gap": null,
            "grid_row": null,
            "grid_template_areas": null,
            "grid_template_columns": null,
            "grid_template_rows": null,
            "height": null,
            "justify_content": null,
            "justify_items": null,
            "left": null,
            "margin": null,
            "max_height": null,
            "max_width": null,
            "min_height": null,
            "min_width": null,
            "object_fit": null,
            "object_position": null,
            "order": null,
            "overflow": null,
            "overflow_x": null,
            "overflow_y": null,
            "padding": null,
            "right": null,
            "top": null,
            "visibility": null,
            "width": null
          }
        },
        "9a1cc48c891c4f3b9a8fea8c6fce93c8": {
          "model_module": "@jupyter-widgets/controls",
          "model_name": "DescriptionStyleModel",
          "model_module_version": "1.5.0",
          "state": {
            "_model_module": "@jupyter-widgets/controls",
            "_model_module_version": "1.5.0",
            "_model_name": "DescriptionStyleModel",
            "_view_count": null,
            "_view_module": "@jupyter-widgets/base",
            "_view_module_version": "1.2.0",
            "_view_name": "StyleView",
            "description_width": ""
          }
        },
        "001b71d9914d4ebb9d3ed8847db8a7cd": {
          "model_module": "@jupyter-widgets/base",
          "model_name": "LayoutModel",
          "model_module_version": "1.2.0",
          "state": {
            "_model_module": "@jupyter-widgets/base",
            "_model_module_version": "1.2.0",
            "_model_name": "LayoutModel",
            "_view_count": null,
            "_view_module": "@jupyter-widgets/base",
            "_view_module_version": "1.2.0",
            "_view_name": "LayoutView",
            "align_content": null,
            "align_items": null,
            "align_self": null,
            "border": null,
            "bottom": null,
            "display": null,
            "flex": null,
            "flex_flow": null,
            "grid_area": null,
            "grid_auto_columns": null,
            "grid_auto_flow": null,
            "grid_auto_rows": null,
            "grid_column": null,
            "grid_gap": null,
            "grid_row": null,
            "grid_template_areas": null,
            "grid_template_columns": null,
            "grid_template_rows": null,
            "height": null,
            "justify_content": null,
            "justify_items": null,
            "left": null,
            "margin": null,
            "max_height": null,
            "max_width": null,
            "min_height": null,
            "min_width": null,
            "object_fit": null,
            "object_position": null,
            "order": null,
            "overflow": null,
            "overflow_x": null,
            "overflow_y": null,
            "padding": null,
            "right": null,
            "top": null,
            "visibility": null,
            "width": null
          }
        },
        "77fa4130c7a240c79147c0abc6f14aff": {
          "model_module": "@jupyter-widgets/controls",
          "model_name": "ProgressStyleModel",
          "model_module_version": "1.5.0",
          "state": {
            "_model_module": "@jupyter-widgets/controls",
            "_model_module_version": "1.5.0",
            "_model_name": "ProgressStyleModel",
            "_view_count": null,
            "_view_module": "@jupyter-widgets/base",
            "_view_module_version": "1.2.0",
            "_view_name": "StyleView",
            "bar_color": null,
            "description_width": ""
          }
        },
        "7b90d0e679be44bfaf1ff4e7d0014e85": {
          "model_module": "@jupyter-widgets/base",
          "model_name": "LayoutModel",
          "model_module_version": "1.2.0",
          "state": {
            "_model_module": "@jupyter-widgets/base",
            "_model_module_version": "1.2.0",
            "_model_name": "LayoutModel",
            "_view_count": null,
            "_view_module": "@jupyter-widgets/base",
            "_view_module_version": "1.2.0",
            "_view_name": "LayoutView",
            "align_content": null,
            "align_items": null,
            "align_self": null,
            "border": null,
            "bottom": null,
            "display": null,
            "flex": null,
            "flex_flow": null,
            "grid_area": null,
            "grid_auto_columns": null,
            "grid_auto_flow": null,
            "grid_auto_rows": null,
            "grid_column": null,
            "grid_gap": null,
            "grid_row": null,
            "grid_template_areas": null,
            "grid_template_columns": null,
            "grid_template_rows": null,
            "height": null,
            "justify_content": null,
            "justify_items": null,
            "left": null,
            "margin": null,
            "max_height": null,
            "max_width": null,
            "min_height": null,
            "min_width": null,
            "object_fit": null,
            "object_position": null,
            "order": null,
            "overflow": null,
            "overflow_x": null,
            "overflow_y": null,
            "padding": null,
            "right": null,
            "top": null,
            "visibility": null,
            "width": null
          }
        },
        "fe7c549880b74682a61d8e0dbf3d5e50": {
          "model_module": "@jupyter-widgets/controls",
          "model_name": "DescriptionStyleModel",
          "model_module_version": "1.5.0",
          "state": {
            "_model_module": "@jupyter-widgets/controls",
            "_model_module_version": "1.5.0",
            "_model_name": "DescriptionStyleModel",
            "_view_count": null,
            "_view_module": "@jupyter-widgets/base",
            "_view_module_version": "1.2.0",
            "_view_name": "StyleView",
            "description_width": ""
          }
        },
        "bb5d300809fc4f3090bfd0bebf13071d": {
          "model_module": "@jupyter-widgets/controls",
          "model_name": "HBoxModel",
          "model_module_version": "1.5.0",
          "state": {
            "_dom_classes": [],
            "_model_module": "@jupyter-widgets/controls",
            "_model_module_version": "1.5.0",
            "_model_name": "HBoxModel",
            "_view_count": null,
            "_view_module": "@jupyter-widgets/controls",
            "_view_module_version": "1.5.0",
            "_view_name": "HBoxView",
            "box_style": "",
            "children": [
              "IPY_MODEL_08794982484f42af989cca3c882659e2",
              "IPY_MODEL_05e13e68479e45819db4c383b5995d6c",
              "IPY_MODEL_fc8d97473d384fa5b7980f4402119f81"
            ],
            "layout": "IPY_MODEL_ba412fcf25524707bc25679988e39a89"
          }
        },
        "08794982484f42af989cca3c882659e2": {
          "model_module": "@jupyter-widgets/controls",
          "model_name": "HTMLModel",
          "model_module_version": "1.5.0",
          "state": {
            "_dom_classes": [],
            "_model_module": "@jupyter-widgets/controls",
            "_model_module_version": "1.5.0",
            "_model_name": "HTMLModel",
            "_view_count": null,
            "_view_module": "@jupyter-widgets/controls",
            "_view_module_version": "1.5.0",
            "_view_name": "HTMLView",
            "description": "",
            "description_tooltip": null,
            "layout": "IPY_MODEL_8c13975c4cbc4586b32f97e27e5ff19e",
            "placeholder": "​",
            "style": "IPY_MODEL_d25719d225b74b57adfe262b4eff00b1",
            "value": "100%"
          }
        },
        "05e13e68479e45819db4c383b5995d6c": {
          "model_module": "@jupyter-widgets/controls",
          "model_name": "FloatProgressModel",
          "model_module_version": "1.5.0",
          "state": {
            "_dom_classes": [],
            "_model_module": "@jupyter-widgets/controls",
            "_model_module_version": "1.5.0",
            "_model_name": "FloatProgressModel",
            "_view_count": null,
            "_view_module": "@jupyter-widgets/controls",
            "_view_module_version": "1.5.0",
            "_view_name": "ProgressView",
            "bar_style": "success",
            "description": "",
            "description_tooltip": null,
            "layout": "IPY_MODEL_6726c14585024397888ac6f8d0da2889",
            "max": 25,
            "min": 0,
            "orientation": "horizontal",
            "style": "IPY_MODEL_8d7c4251703740e48f0c828432eca2e2",
            "value": 25
          }
        },
        "fc8d97473d384fa5b7980f4402119f81": {
          "model_module": "@jupyter-widgets/controls",
          "model_name": "HTMLModel",
          "model_module_version": "1.5.0",
          "state": {
            "_dom_classes": [],
            "_model_module": "@jupyter-widgets/controls",
            "_model_module_version": "1.5.0",
            "_model_name": "HTMLModel",
            "_view_count": null,
            "_view_module": "@jupyter-widgets/controls",
            "_view_module_version": "1.5.0",
            "_view_name": "HTMLView",
            "description": "",
            "description_tooltip": null,
            "layout": "IPY_MODEL_ce6ab5e687694922859df2bff8cccf48",
            "placeholder": "​",
            "style": "IPY_MODEL_3bfeca5a559f4968bc729f0ea7a55291",
            "value": " 25/25 [02:19&lt;00:00,  5.52s/ba]"
          }
        },
        "ba412fcf25524707bc25679988e39a89": {
          "model_module": "@jupyter-widgets/base",
          "model_name": "LayoutModel",
          "model_module_version": "1.2.0",
          "state": {
            "_model_module": "@jupyter-widgets/base",
            "_model_module_version": "1.2.0",
            "_model_name": "LayoutModel",
            "_view_count": null,
            "_view_module": "@jupyter-widgets/base",
            "_view_module_version": "1.2.0",
            "_view_name": "LayoutView",
            "align_content": null,
            "align_items": null,
            "align_self": null,
            "border": null,
            "bottom": null,
            "display": null,
            "flex": null,
            "flex_flow": null,
            "grid_area": null,
            "grid_auto_columns": null,
            "grid_auto_flow": null,
            "grid_auto_rows": null,
            "grid_column": null,
            "grid_gap": null,
            "grid_row": null,
            "grid_template_areas": null,
            "grid_template_columns": null,
            "grid_template_rows": null,
            "height": null,
            "justify_content": null,
            "justify_items": null,
            "left": null,
            "margin": null,
            "max_height": null,
            "max_width": null,
            "min_height": null,
            "min_width": null,
            "object_fit": null,
            "object_position": null,
            "order": null,
            "overflow": null,
            "overflow_x": null,
            "overflow_y": null,
            "padding": null,
            "right": null,
            "top": null,
            "visibility": null,
            "width": null
          }
        },
        "8c13975c4cbc4586b32f97e27e5ff19e": {
          "model_module": "@jupyter-widgets/base",
          "model_name": "LayoutModel",
          "model_module_version": "1.2.0",
          "state": {
            "_model_module": "@jupyter-widgets/base",
            "_model_module_version": "1.2.0",
            "_model_name": "LayoutModel",
            "_view_count": null,
            "_view_module": "@jupyter-widgets/base",
            "_view_module_version": "1.2.0",
            "_view_name": "LayoutView",
            "align_content": null,
            "align_items": null,
            "align_self": null,
            "border": null,
            "bottom": null,
            "display": null,
            "flex": null,
            "flex_flow": null,
            "grid_area": null,
            "grid_auto_columns": null,
            "grid_auto_flow": null,
            "grid_auto_rows": null,
            "grid_column": null,
            "grid_gap": null,
            "grid_row": null,
            "grid_template_areas": null,
            "grid_template_columns": null,
            "grid_template_rows": null,
            "height": null,
            "justify_content": null,
            "justify_items": null,
            "left": null,
            "margin": null,
            "max_height": null,
            "max_width": null,
            "min_height": null,
            "min_width": null,
            "object_fit": null,
            "object_position": null,
            "order": null,
            "overflow": null,
            "overflow_x": null,
            "overflow_y": null,
            "padding": null,
            "right": null,
            "top": null,
            "visibility": null,
            "width": null
          }
        },
        "d25719d225b74b57adfe262b4eff00b1": {
          "model_module": "@jupyter-widgets/controls",
          "model_name": "DescriptionStyleModel",
          "model_module_version": "1.5.0",
          "state": {
            "_model_module": "@jupyter-widgets/controls",
            "_model_module_version": "1.5.0",
            "_model_name": "DescriptionStyleModel",
            "_view_count": null,
            "_view_module": "@jupyter-widgets/base",
            "_view_module_version": "1.2.0",
            "_view_name": "StyleView",
            "description_width": ""
          }
        },
        "6726c14585024397888ac6f8d0da2889": {
          "model_module": "@jupyter-widgets/base",
          "model_name": "LayoutModel",
          "model_module_version": "1.2.0",
          "state": {
            "_model_module": "@jupyter-widgets/base",
            "_model_module_version": "1.2.0",
            "_model_name": "LayoutModel",
            "_view_count": null,
            "_view_module": "@jupyter-widgets/base",
            "_view_module_version": "1.2.0",
            "_view_name": "LayoutView",
            "align_content": null,
            "align_items": null,
            "align_self": null,
            "border": null,
            "bottom": null,
            "display": null,
            "flex": null,
            "flex_flow": null,
            "grid_area": null,
            "grid_auto_columns": null,
            "grid_auto_flow": null,
            "grid_auto_rows": null,
            "grid_column": null,
            "grid_gap": null,
            "grid_row": null,
            "grid_template_areas": null,
            "grid_template_columns": null,
            "grid_template_rows": null,
            "height": null,
            "justify_content": null,
            "justify_items": null,
            "left": null,
            "margin": null,
            "max_height": null,
            "max_width": null,
            "min_height": null,
            "min_width": null,
            "object_fit": null,
            "object_position": null,
            "order": null,
            "overflow": null,
            "overflow_x": null,
            "overflow_y": null,
            "padding": null,
            "right": null,
            "top": null,
            "visibility": null,
            "width": null
          }
        },
        "8d7c4251703740e48f0c828432eca2e2": {
          "model_module": "@jupyter-widgets/controls",
          "model_name": "ProgressStyleModel",
          "model_module_version": "1.5.0",
          "state": {
            "_model_module": "@jupyter-widgets/controls",
            "_model_module_version": "1.5.0",
            "_model_name": "ProgressStyleModel",
            "_view_count": null,
            "_view_module": "@jupyter-widgets/base",
            "_view_module_version": "1.2.0",
            "_view_name": "StyleView",
            "bar_color": null,
            "description_width": ""
          }
        },
        "ce6ab5e687694922859df2bff8cccf48": {
          "model_module": "@jupyter-widgets/base",
          "model_name": "LayoutModel",
          "model_module_version": "1.2.0",
          "state": {
            "_model_module": "@jupyter-widgets/base",
            "_model_module_version": "1.2.0",
            "_model_name": "LayoutModel",
            "_view_count": null,
            "_view_module": "@jupyter-widgets/base",
            "_view_module_version": "1.2.0",
            "_view_name": "LayoutView",
            "align_content": null,
            "align_items": null,
            "align_self": null,
            "border": null,
            "bottom": null,
            "display": null,
            "flex": null,
            "flex_flow": null,
            "grid_area": null,
            "grid_auto_columns": null,
            "grid_auto_flow": null,
            "grid_auto_rows": null,
            "grid_column": null,
            "grid_gap": null,
            "grid_row": null,
            "grid_template_areas": null,
            "grid_template_columns": null,
            "grid_template_rows": null,
            "height": null,
            "justify_content": null,
            "justify_items": null,
            "left": null,
            "margin": null,
            "max_height": null,
            "max_width": null,
            "min_height": null,
            "min_width": null,
            "object_fit": null,
            "object_position": null,
            "order": null,
            "overflow": null,
            "overflow_x": null,
            "overflow_y": null,
            "padding": null,
            "right": null,
            "top": null,
            "visibility": null,
            "width": null
          }
        },
        "3bfeca5a559f4968bc729f0ea7a55291": {
          "model_module": "@jupyter-widgets/controls",
          "model_name": "DescriptionStyleModel",
          "model_module_version": "1.5.0",
          "state": {
            "_model_module": "@jupyter-widgets/controls",
            "_model_module_version": "1.5.0",
            "_model_name": "DescriptionStyleModel",
            "_view_count": null,
            "_view_module": "@jupyter-widgets/base",
            "_view_module_version": "1.2.0",
            "_view_name": "StyleView",
            "description_width": ""
          }
        }
      }
    }
  },
  "nbformat": 4,
  "nbformat_minor": 0
}